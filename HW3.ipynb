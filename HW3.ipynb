{
  "nbformat": 4,
  "nbformat_minor": 0,
  "metadata": {
    "colab": {
      "name": "HW3",
      "provenance": [],
      "collapsed_sections": [],
      "include_colab_link": true
    },
    "kernelspec": {
      "name": "python3",
      "display_name": "Python 3"
    }
  },
  "cells": [
    {
      "cell_type": "markdown",
      "metadata": {
        "id": "view-in-github",
        "colab_type": "text"
      },
      "source": [
        "<a href=\"https://colab.research.google.com/github/jackieshen2013/nyu-python-public-policy/blob/master/HW3.ipynb\" target=\"_parent\"><img src=\"https://colab.research.google.com/assets/colab-badge.svg\" alt=\"Open In Colab\"/></a>"
      ]
    },
    {
      "cell_type": "markdown",
      "metadata": {
        "id": "wReCHdM3monb",
        "colab_type": "text"
      },
      "source": [
        "Problem Statement: When you read through the descriptor column in the 311 data, you will see that complaints related to graffiti are actually scattered throughout multiple complaint_type categories. We want to identify all complaints related to graffiti and see which community districts have the most instances of graffiti.\n",
        "\n",
        "To help make this assignment easier, I have created a smaller subset of the 311 data for you to use. It's named cleaned_311_data_hw3.csv and it's shared with you on Google Drive. This smaller dataset only contains ~65,000 records from relevant complaint type categories. df = pd.read_csv('/content/drive/My Drive/Data for Python/cleaned_311_data_hw3.csv', header='infer')\n",
        "\n",
        "Step 1. Create a function that checks each row in the 311 dataframe to see if the word \"graffiti\" is present in either the complaint_type value or descriptor value. Both columns may contain the word, so you should check both. If the word \"graffiti\" is found, the function should return the boolean value True. If \"graffiti\" is not found, the function should return the boolean value False.\n",
        "Hint 1: The same way that we checked if the string \"BRONX\" existed in the community_board value in the cb_counts table during the lecture, you can check if \"graffiti\" exists in the descriptor or complaint_type values.\n",
        "Hint 2: The descriptor column contains some null/NaN values. You'll have trouble running a function on these. Before your function checks if \"graffiti\" is present in descriptor, the function should make sure that a descriptor value exists using pd.notnull(row.descriptor)\n",
        "Hint 3: Capitalization may be inconsistent. It could help to use .lower() to convert strings to lowercase.\n",
        "Step 2. Apply the function created in Step 1 to the 311 dataframe and create a new column called graffiti_flag that captures the output from the function.\n",
        "Tip: There are two checks you can use to confirm that the function worked as expected.\n",
        "Group by graffiti_flag to make sure there are records tagged as True.\n",
        "Using only the records where graffiti_flag is True (sample[sample.grafitti_flag]), group by complaint_type to make sure that more than one complaint_type is included.\n",
        "Step 3. Create another dataframe df_graffiti that only contains records where graffiti_flag is True. df_graffiti = df[df.grafitti_flag]\n",
        "Step 4. Group your dataframe df_graffiti to get the count of requests per community_board. Use .nlargest() to identify which Community District has the highest count."
      ]
    },
    {
      "cell_type": "code",
      "metadata": {
        "id": "cNCgCm-flaOo",
        "colab_type": "code",
        "colab": {}
      },
      "source": [
        "import pandas as pd\n",
        "from google.colab import drive"
      ],
      "execution_count": 0,
      "outputs": []
    },
    {
      "cell_type": "code",
      "metadata": {
        "id": "pgMIlOf-ld_5",
        "colab_type": "code",
        "colab": {}
      },
      "source": [
        "import matplotlib.pyplot as plt \n",
        "import numpy as np"
      ],
      "execution_count": 0,
      "outputs": []
    },
    {
      "cell_type": "code",
      "metadata": {
        "id": "8yuzq0iElfPP",
        "colab_type": "code",
        "colab": {}
      },
      "source": [
        "pd.set_option('display.max_columns', None)\n",
        "pd.set_option('display.max_rows', None)"
      ],
      "execution_count": 0,
      "outputs": []
    },
    {
      "cell_type": "code",
      "metadata": {
        "id": "5d5nmAF3lge0",
        "colab_type": "code",
        "outputId": "dec9059e-7dbc-4035-81c7-bc583ab76ca3",
        "colab": {
          "base_uri": "https://localhost:8080/",
          "height": 34
        }
      },
      "source": [
        "drive.mount('/content/drive')"
      ],
      "execution_count": 0,
      "outputs": [
        {
          "output_type": "stream",
          "text": [
            "Drive already mounted at /content/drive; to attempt to forcibly remount, call drive.mount(\"/content/drive\", force_remount=True).\n"
          ],
          "name": "stdout"
        }
      ]
    },
    {
      "cell_type": "code",
      "metadata": {
        "id": "eMyK2FTmlk7K",
        "colab_type": "code",
        "colab": {}
      },
      "source": [
        "df = pd.read_csv('/content/drive/My Drive/Data for Python/cleaned_311_data_hw3.csv', header='infer')"
      ],
      "execution_count": 0,
      "outputs": []
    },
    {
      "cell_type": "code",
      "metadata": {
        "id": "95yNOEOF1W8R",
        "colab_type": "code",
        "outputId": "526d979a-b67e-4cbb-9a36-096f25815363",
        "colab": {
          "base_uri": "https://localhost:8080/",
          "height": 187
        }
      },
      "source": [
        "print(df)"
      ],
      "execution_count": 0,
      "outputs": [
        {
          "output_type": "stream",
          "text": [
            "IOPub data rate exceeded.\n",
            "The notebook server will temporarily stop sending output\n",
            "to the client in order to avoid crashing it.\n",
            "To change this limit, set the config variable\n",
            "`--NotebookApp.iopub_data_rate_limit`.\n",
            "\n",
            "Current values:\n",
            "NotebookApp.iopub_data_rate_limit=1000000.0 (bytes/sec)\n",
            "NotebookApp.rate_limit_window=3.0 (secs)\n",
            "\n"
          ],
          "name": "stderr"
        }
      ]
    },
    {
      "cell_type": "code",
      "metadata": {
        "id": "4BXDh-S1ui7X",
        "colab_type": "code",
        "outputId": "74ec0df5-d0ad-4e93-f2b6-646fba375d09",
        "colab": {
          "base_uri": "https://localhost:8080/",
          "height": 411
        }
      },
      "source": [
        "df.head()"
      ],
      "execution_count": 0,
      "outputs": [
        {
          "output_type": "execute_result",
          "data": {
            "text/html": [
              "<div>\n",
              "<style scoped>\n",
              "    .dataframe tbody tr th:only-of-type {\n",
              "        vertical-align: middle;\n",
              "    }\n",
              "\n",
              "    .dataframe tbody tr th {\n",
              "        vertical-align: top;\n",
              "    }\n",
              "\n",
              "    .dataframe thead th {\n",
              "        text-align: right;\n",
              "    }\n",
              "</style>\n",
              "<table border=\"1\" class=\"dataframe\">\n",
              "  <thead>\n",
              "    <tr style=\"text-align: right;\">\n",
              "      <th></th>\n",
              "      <th>Unnamed: 0</th>\n",
              "      <th>Unnamed: 0.1</th>\n",
              "      <th>unique_key</th>\n",
              "      <th>created_date</th>\n",
              "      <th>closed_date</th>\n",
              "      <th>agency</th>\n",
              "      <th>agency_name</th>\n",
              "      <th>complaint_type</th>\n",
              "      <th>descriptor</th>\n",
              "      <th>location_type</th>\n",
              "      <th>incident_zip</th>\n",
              "      <th>incident_address</th>\n",
              "      <th>street_name</th>\n",
              "      <th>cross_street_1</th>\n",
              "      <th>cross_street_2</th>\n",
              "      <th>intersection_street_1</th>\n",
              "      <th>intersection_street_2</th>\n",
              "      <th>address_type</th>\n",
              "      <th>city</th>\n",
              "      <th>landmark</th>\n",
              "      <th>facility_type</th>\n",
              "      <th>status</th>\n",
              "      <th>due_date</th>\n",
              "      <th>resolution_description</th>\n",
              "      <th>resolution_action_updated_date</th>\n",
              "      <th>community_board</th>\n",
              "      <th>bbl</th>\n",
              "      <th>borough</th>\n",
              "      <th>x_coordinate_(state_plane)</th>\n",
              "      <th>y_coordinate_(state_plane)</th>\n",
              "      <th>open_data_channel_type</th>\n",
              "      <th>park_facility_name</th>\n",
              "      <th>park_borough</th>\n",
              "      <th>vehicle_type</th>\n",
              "      <th>taxi_company_borough</th>\n",
              "      <th>taxi_pick_up_location</th>\n",
              "      <th>bridge_highway_name</th>\n",
              "      <th>bridge_highway_direction</th>\n",
              "      <th>road_ramp</th>\n",
              "      <th>bridge_highway_segment</th>\n",
              "      <th>latitude</th>\n",
              "      <th>longitude</th>\n",
              "      <th>location</th>\n",
              "    </tr>\n",
              "  </thead>\n",
              "  <tbody>\n",
              "    <tr>\n",
              "      <th>0</th>\n",
              "      <td>238</td>\n",
              "      <td>238</td>\n",
              "      <td>39887282</td>\n",
              "      <td>08/01/2018 01:42:01 AM</td>\n",
              "      <td>08/14/2018 02:42:12 PM</td>\n",
              "      <td>DPR</td>\n",
              "      <td>Department of Parks and Recreation</td>\n",
              "      <td>Maintenance or Facility</td>\n",
              "      <td>Structure - Outdoors</td>\n",
              "      <td>Park</td>\n",
              "      <td>10003.0</td>\n",
              "      <td>NaN</td>\n",
              "      <td>NaN</td>\n",
              "      <td>NaN</td>\n",
              "      <td>NaN</td>\n",
              "      <td>NaN</td>\n",
              "      <td>NaN</td>\n",
              "      <td>NaN</td>\n",
              "      <td>NEW YORK</td>\n",
              "      <td>NaN</td>\n",
              "      <td>NaN</td>\n",
              "      <td>Closed</td>\n",
              "      <td>08/15/2018 01:42:01 AM</td>\n",
              "      <td>The Department of Parks and Recreation has com...</td>\n",
              "      <td>08/14/2018 02:42:12 PM</td>\n",
              "      <td>0 Unspecified</td>\n",
              "      <td>NaN</td>\n",
              "      <td>Unspecified</td>\n",
              "      <td>NaN</td>\n",
              "      <td>NaN</td>\n",
              "      <td>PHONE</td>\n",
              "      <td>First Park</td>\n",
              "      <td>Unspecified</td>\n",
              "      <td>NaN</td>\n",
              "      <td>NaN</td>\n",
              "      <td>NaN</td>\n",
              "      <td>NaN</td>\n",
              "      <td>NaN</td>\n",
              "      <td>NaN</td>\n",
              "      <td>NaN</td>\n",
              "      <td>NaN</td>\n",
              "      <td>NaN</td>\n",
              "      <td>NaN</td>\n",
              "    </tr>\n",
              "    <tr>\n",
              "      <th>1</th>\n",
              "      <td>353</td>\n",
              "      <td>353</td>\n",
              "      <td>39889407</td>\n",
              "      <td>08/01/2018 03:20:07 AM</td>\n",
              "      <td>08/23/2018 11:15:00 AM</td>\n",
              "      <td>DPR</td>\n",
              "      <td>Department of Parks and Recreation</td>\n",
              "      <td>Maintenance or Facility</td>\n",
              "      <td>Garbage or Litter</td>\n",
              "      <td>Park</td>\n",
              "      <td>11434.0</td>\n",
              "      <td>NaN</td>\n",
              "      <td>NaN</td>\n",
              "      <td>NaN</td>\n",
              "      <td>NaN</td>\n",
              "      <td>BAISLEY BOULEVARD</td>\n",
              "      <td>MERRICK BOULEVARD</td>\n",
              "      <td>INTERSECTION</td>\n",
              "      <td>JAMAICA</td>\n",
              "      <td>NaN</td>\n",
              "      <td>NaN</td>\n",
              "      <td>Closed</td>\n",
              "      <td>08/04/2018 03:20:07 AM</td>\n",
              "      <td>The Service Request submitted did not have suf...</td>\n",
              "      <td>08/23/2018 11:15:00 AM</td>\n",
              "      <td>12 QUEENS</td>\n",
              "      <td>NaN</td>\n",
              "      <td>QUEENS</td>\n",
              "      <td>1048111.0</td>\n",
              "      <td>188479.0</td>\n",
              "      <td>PHONE</td>\n",
              "      <td>Unspecified</td>\n",
              "      <td>QUEENS</td>\n",
              "      <td>NaN</td>\n",
              "      <td>NaN</td>\n",
              "      <td>NaN</td>\n",
              "      <td>NaN</td>\n",
              "      <td>NaN</td>\n",
              "      <td>NaN</td>\n",
              "      <td>NaN</td>\n",
              "      <td>40.683778</td>\n",
              "      <td>-73.769744</td>\n",
              "      <td>(40.68377771085733, -73.76974413109498)</td>\n",
              "    </tr>\n",
              "    <tr>\n",
              "      <th>2</th>\n",
              "      <td>403</td>\n",
              "      <td>403</td>\n",
              "      <td>39893067</td>\n",
              "      <td>08/01/2018 04:19:15 AM</td>\n",
              "      <td>08/02/2018 08:19:55 AM</td>\n",
              "      <td>DPR</td>\n",
              "      <td>Department of Parks and Recreation</td>\n",
              "      <td>Maintenance or Facility</td>\n",
              "      <td>Hours of Operation</td>\n",
              "      <td>Park</td>\n",
              "      <td>11206.0</td>\n",
              "      <td>NaN</td>\n",
              "      <td>NaN</td>\n",
              "      <td>NaN</td>\n",
              "      <td>NaN</td>\n",
              "      <td>NaN</td>\n",
              "      <td>NaN</td>\n",
              "      <td>NaN</td>\n",
              "      <td>BROOKLYN</td>\n",
              "      <td>NaN</td>\n",
              "      <td>NaN</td>\n",
              "      <td>Closed</td>\n",
              "      <td>08/04/2018 04:19:15 AM</td>\n",
              "      <td>The Department of Parks and Recreation has com...</td>\n",
              "      <td>08/02/2018 08:19:55 AM</td>\n",
              "      <td>01 BROOKLYN</td>\n",
              "      <td>NaN</td>\n",
              "      <td>BROOKLYN</td>\n",
              "      <td>NaN</td>\n",
              "      <td>NaN</td>\n",
              "      <td>MOBILE</td>\n",
              "      <td>Ten Eyck Plaza</td>\n",
              "      <td>BROOKLYN</td>\n",
              "      <td>NaN</td>\n",
              "      <td>NaN</td>\n",
              "      <td>NaN</td>\n",
              "      <td>NaN</td>\n",
              "      <td>NaN</td>\n",
              "      <td>NaN</td>\n",
              "      <td>NaN</td>\n",
              "      <td>NaN</td>\n",
              "      <td>NaN</td>\n",
              "      <td>NaN</td>\n",
              "    </tr>\n",
              "    <tr>\n",
              "      <th>3</th>\n",
              "      <td>655</td>\n",
              "      <td>655</td>\n",
              "      <td>39890578</td>\n",
              "      <td>08/01/2018 07:32:33 AM</td>\n",
              "      <td>08/16/2018 10:28:38 AM</td>\n",
              "      <td>DPR</td>\n",
              "      <td>Department of Parks and Recreation</td>\n",
              "      <td>Maintenance or Facility</td>\n",
              "      <td>Garbage or Litter</td>\n",
              "      <td>Park</td>\n",
              "      <td>11691.0</td>\n",
              "      <td>NaN</td>\n",
              "      <td>NaN</td>\n",
              "      <td>NaN</td>\n",
              "      <td>NaN</td>\n",
              "      <td>NaN</td>\n",
              "      <td>NaN</td>\n",
              "      <td>NaN</td>\n",
              "      <td>FAR ROCKAWAY</td>\n",
              "      <td>NaN</td>\n",
              "      <td>NaN</td>\n",
              "      <td>Closed</td>\n",
              "      <td>08/04/2018 07:32:33 AM</td>\n",
              "      <td>The Department of Parks and Recreation has com...</td>\n",
              "      <td>08/16/2018 10:28:38 AM</td>\n",
              "      <td>14 QUEENS</td>\n",
              "      <td>NaN</td>\n",
              "      <td>QUEENS</td>\n",
              "      <td>NaN</td>\n",
              "      <td>NaN</td>\n",
              "      <td>PHONE</td>\n",
              "      <td>Westbourne Playground</td>\n",
              "      <td>QUEENS</td>\n",
              "      <td>NaN</td>\n",
              "      <td>NaN</td>\n",
              "      <td>NaN</td>\n",
              "      <td>NaN</td>\n",
              "      <td>NaN</td>\n",
              "      <td>NaN</td>\n",
              "      <td>NaN</td>\n",
              "      <td>NaN</td>\n",
              "      <td>NaN</td>\n",
              "      <td>NaN</td>\n",
              "    </tr>\n",
              "    <tr>\n",
              "      <th>4</th>\n",
              "      <td>658</td>\n",
              "      <td>658</td>\n",
              "      <td>39896325</td>\n",
              "      <td>08/01/2018 07:33:12 AM</td>\n",
              "      <td>09/04/2018 05:38:02 PM</td>\n",
              "      <td>DPR</td>\n",
              "      <td>Department of Parks and Recreation</td>\n",
              "      <td>Maintenance or Facility</td>\n",
              "      <td>Garbage or Litter</td>\n",
              "      <td>Park</td>\n",
              "      <td>11355.0</td>\n",
              "      <td>NaN</td>\n",
              "      <td>NaN</td>\n",
              "      <td>NaN</td>\n",
              "      <td>NaN</td>\n",
              "      <td>NaN</td>\n",
              "      <td>NaN</td>\n",
              "      <td>NaN</td>\n",
              "      <td>FLUSHING</td>\n",
              "      <td>NaN</td>\n",
              "      <td>NaN</td>\n",
              "      <td>Closed</td>\n",
              "      <td>08/04/2018 07:33:12 AM</td>\n",
              "      <td>The condition was inspected and it was determi...</td>\n",
              "      <td>09/04/2018 05:38:02 PM</td>\n",
              "      <td>07 QUEENS</td>\n",
              "      <td>NaN</td>\n",
              "      <td>QUEENS</td>\n",
              "      <td>NaN</td>\n",
              "      <td>NaN</td>\n",
              "      <td>MOBILE</td>\n",
              "      <td>Maple Playground</td>\n",
              "      <td>QUEENS</td>\n",
              "      <td>NaN</td>\n",
              "      <td>NaN</td>\n",
              "      <td>NaN</td>\n",
              "      <td>NaN</td>\n",
              "      <td>NaN</td>\n",
              "      <td>NaN</td>\n",
              "      <td>NaN</td>\n",
              "      <td>NaN</td>\n",
              "      <td>NaN</td>\n",
              "      <td>NaN</td>\n",
              "    </tr>\n",
              "  </tbody>\n",
              "</table>\n",
              "</div>"
            ],
            "text/plain": [
              "   Unnamed: 0  Unnamed: 0.1  unique_key            created_date  \\\n",
              "0         238           238    39887282  08/01/2018 01:42:01 AM   \n",
              "1         353           353    39889407  08/01/2018 03:20:07 AM   \n",
              "2         403           403    39893067  08/01/2018 04:19:15 AM   \n",
              "3         655           655    39890578  08/01/2018 07:32:33 AM   \n",
              "4         658           658    39896325  08/01/2018 07:33:12 AM   \n",
              "\n",
              "              closed_date agency                         agency_name  \\\n",
              "0  08/14/2018 02:42:12 PM    DPR  Department of Parks and Recreation   \n",
              "1  08/23/2018 11:15:00 AM    DPR  Department of Parks and Recreation   \n",
              "2  08/02/2018 08:19:55 AM    DPR  Department of Parks and Recreation   \n",
              "3  08/16/2018 10:28:38 AM    DPR  Department of Parks and Recreation   \n",
              "4  09/04/2018 05:38:02 PM    DPR  Department of Parks and Recreation   \n",
              "\n",
              "            complaint_type            descriptor location_type  incident_zip  \\\n",
              "0  Maintenance or Facility  Structure - Outdoors          Park       10003.0   \n",
              "1  Maintenance or Facility     Garbage or Litter          Park       11434.0   \n",
              "2  Maintenance or Facility    Hours of Operation          Park       11206.0   \n",
              "3  Maintenance or Facility     Garbage or Litter          Park       11691.0   \n",
              "4  Maintenance or Facility     Garbage or Litter          Park       11355.0   \n",
              "\n",
              "  incident_address street_name cross_street_1 cross_street_2  \\\n",
              "0              NaN         NaN            NaN            NaN   \n",
              "1              NaN         NaN            NaN            NaN   \n",
              "2              NaN         NaN            NaN            NaN   \n",
              "3              NaN         NaN            NaN            NaN   \n",
              "4              NaN         NaN            NaN            NaN   \n",
              "\n",
              "  intersection_street_1 intersection_street_2  address_type          city  \\\n",
              "0                   NaN                   NaN           NaN      NEW YORK   \n",
              "1     BAISLEY BOULEVARD     MERRICK BOULEVARD  INTERSECTION       JAMAICA   \n",
              "2                   NaN                   NaN           NaN      BROOKLYN   \n",
              "3                   NaN                   NaN           NaN  FAR ROCKAWAY   \n",
              "4                   NaN                   NaN           NaN      FLUSHING   \n",
              "\n",
              "  landmark facility_type  status                due_date  \\\n",
              "0      NaN           NaN  Closed  08/15/2018 01:42:01 AM   \n",
              "1      NaN           NaN  Closed  08/04/2018 03:20:07 AM   \n",
              "2      NaN           NaN  Closed  08/04/2018 04:19:15 AM   \n",
              "3      NaN           NaN  Closed  08/04/2018 07:32:33 AM   \n",
              "4      NaN           NaN  Closed  08/04/2018 07:33:12 AM   \n",
              "\n",
              "                              resolution_description  \\\n",
              "0  The Department of Parks and Recreation has com...   \n",
              "1  The Service Request submitted did not have suf...   \n",
              "2  The Department of Parks and Recreation has com...   \n",
              "3  The Department of Parks and Recreation has com...   \n",
              "4  The condition was inspected and it was determi...   \n",
              "\n",
              "  resolution_action_updated_date community_board  bbl      borough  \\\n",
              "0         08/14/2018 02:42:12 PM   0 Unspecified  NaN  Unspecified   \n",
              "1         08/23/2018 11:15:00 AM       12 QUEENS  NaN       QUEENS   \n",
              "2         08/02/2018 08:19:55 AM     01 BROOKLYN  NaN     BROOKLYN   \n",
              "3         08/16/2018 10:28:38 AM       14 QUEENS  NaN       QUEENS   \n",
              "4         09/04/2018 05:38:02 PM       07 QUEENS  NaN       QUEENS   \n",
              "\n",
              "   x_coordinate_(state_plane)  y_coordinate_(state_plane)  \\\n",
              "0                         NaN                         NaN   \n",
              "1                   1048111.0                    188479.0   \n",
              "2                         NaN                         NaN   \n",
              "3                         NaN                         NaN   \n",
              "4                         NaN                         NaN   \n",
              "\n",
              "  open_data_channel_type     park_facility_name park_borough  vehicle_type  \\\n",
              "0                  PHONE             First Park  Unspecified           NaN   \n",
              "1                  PHONE            Unspecified       QUEENS           NaN   \n",
              "2                 MOBILE         Ten Eyck Plaza     BROOKLYN           NaN   \n",
              "3                  PHONE  Westbourne Playground       QUEENS           NaN   \n",
              "4                 MOBILE       Maple Playground       QUEENS           NaN   \n",
              "\n",
              "   taxi_company_borough  taxi_pick_up_location bridge_highway_name  \\\n",
              "0                   NaN                    NaN                 NaN   \n",
              "1                   NaN                    NaN                 NaN   \n",
              "2                   NaN                    NaN                 NaN   \n",
              "3                   NaN                    NaN                 NaN   \n",
              "4                   NaN                    NaN                 NaN   \n",
              "\n",
              "  bridge_highway_direction road_ramp bridge_highway_segment   latitude  \\\n",
              "0                      NaN       NaN                    NaN        NaN   \n",
              "1                      NaN       NaN                    NaN  40.683778   \n",
              "2                      NaN       NaN                    NaN        NaN   \n",
              "3                      NaN       NaN                    NaN        NaN   \n",
              "4                      NaN       NaN                    NaN        NaN   \n",
              "\n",
              "   longitude                                 location  \n",
              "0        NaN                                      NaN  \n",
              "1 -73.769744  (40.68377771085733, -73.76974413109498)  \n",
              "2        NaN                                      NaN  \n",
              "3        NaN                                      NaN  \n",
              "4        NaN                                      NaN  "
            ]
          },
          "metadata": {
            "tags": []
          },
          "execution_count": 32
        }
      ]
    },
    {
      "cell_type": "code",
      "metadata": {
        "id": "tjbp1xu-vii5",
        "colab_type": "code",
        "outputId": "04eabedb-0e3b-40fd-fa63-6c116eb2e643",
        "colab": {
          "base_uri": "https://localhost:8080/",
          "height": 1000
        }
      },
      "source": [
        "set(df.community_board)"
      ],
      "execution_count": 0,
      "outputs": [
        {
          "output_type": "execute_result",
          "data": {
            "text/plain": [
              "{'0 Unspecified',\n",
              " '01 BRONX',\n",
              " '01 BROOKLYN',\n",
              " '01 MANHATTAN',\n",
              " '01 QUEENS',\n",
              " '01 STATEN ISLAND',\n",
              " '02 BRONX',\n",
              " '02 BROOKLYN',\n",
              " '02 MANHATTAN',\n",
              " '02 QUEENS',\n",
              " '02 STATEN ISLAND',\n",
              " '03 BRONX',\n",
              " '03 BROOKLYN',\n",
              " '03 MANHATTAN',\n",
              " '03 QUEENS',\n",
              " '03 STATEN ISLAND',\n",
              " '04 BRONX',\n",
              " '04 BROOKLYN',\n",
              " '04 MANHATTAN',\n",
              " '04 QUEENS',\n",
              " '05 BRONX',\n",
              " '05 BROOKLYN',\n",
              " '05 MANHATTAN',\n",
              " '05 QUEENS',\n",
              " '06 BRONX',\n",
              " '06 BROOKLYN',\n",
              " '06 MANHATTAN',\n",
              " '06 QUEENS',\n",
              " '07 BRONX',\n",
              " '07 BROOKLYN',\n",
              " '07 MANHATTAN',\n",
              " '07 QUEENS',\n",
              " '08 BRONX',\n",
              " '08 BROOKLYN',\n",
              " '08 MANHATTAN',\n",
              " '08 QUEENS',\n",
              " '09 BRONX',\n",
              " '09 BROOKLYN',\n",
              " '09 MANHATTAN',\n",
              " '09 QUEENS',\n",
              " '10 BRONX',\n",
              " '10 BROOKLYN',\n",
              " '10 MANHATTAN',\n",
              " '10 QUEENS',\n",
              " '11 BRONX',\n",
              " '11 BROOKLYN',\n",
              " '11 MANHATTAN',\n",
              " '11 QUEENS',\n",
              " '12 BRONX',\n",
              " '12 BROOKLYN',\n",
              " '12 MANHATTAN',\n",
              " '12 QUEENS',\n",
              " '13 BROOKLYN',\n",
              " '13 QUEENS',\n",
              " '14 BROOKLYN',\n",
              " '14 QUEENS',\n",
              " '15 BROOKLYN',\n",
              " '16 BROOKLYN',\n",
              " '17 BROOKLYN',\n",
              " '18 BROOKLYN',\n",
              " '26 BRONX',\n",
              " '27 BRONX',\n",
              " '28 BRONX',\n",
              " '55 BROOKLYN',\n",
              " '56 BROOKLYN',\n",
              " '64 MANHATTAN',\n",
              " '80 QUEENS',\n",
              " '81 QUEENS',\n",
              " '82 QUEENS',\n",
              " '83 QUEENS',\n",
              " '84 QUEENS',\n",
              " '95 STATEN ISLAND',\n",
              " 'Unspecified BRONX',\n",
              " 'Unspecified BROOKLYN',\n",
              " 'Unspecified MANHATTAN',\n",
              " 'Unspecified QUEENS',\n",
              " 'Unspecified STATEN ISLAND'}"
            ]
          },
          "metadata": {
            "tags": []
          },
          "execution_count": 38
        }
      ]
    },
    {
      "cell_type": "code",
      "metadata": {
        "id": "3_g7qosgoKQ4",
        "colab_type": "code",
        "outputId": "2b97aa2d-976b-48ee-a88b-c9b0d330679d",
        "colab": {
          "base_uri": "https://localhost:8080/",
          "height": 170
        }
      },
      "source": [
        "set(df.complaint_type)"
      ],
      "execution_count": 0,
      "outputs": [
        {
          "output_type": "execute_result",
          "data": {
            "text/plain": [
              "{'Bridge Condition',\n",
              " 'Broken Parking Meter',\n",
              " 'Bus Stop Shelter Complaint',\n",
              " 'Graffiti',\n",
              " 'Highway Condition',\n",
              " 'Maintenance or Facility',\n",
              " 'Public Payphone Complaint',\n",
              " 'Public Toilet',\n",
              " 'School Maintenance'}"
            ]
          },
          "metadata": {
            "tags": []
          },
          "execution_count": 8
        }
      ]
    },
    {
      "cell_type": "code",
      "metadata": {
        "id": "zDx5yw3BoRsp",
        "colab_type": "code",
        "outputId": "c746f85f-1fd4-4a81-8d78-e666e595985d",
        "colab": {
          "base_uri": "https://localhost:8080/",
          "height": 1000
        }
      },
      "source": [
        "set(df.descriptor)"
      ],
      "execution_count": 0,
      "outputs": [
        {
          "output_type": "execute_result",
          "data": {
            "text/plain": [
              "{'Air Conditioning Problem',\n",
              " 'American Flag',\n",
              " 'Asbestos',\n",
              " 'Bent/Loose',\n",
              " 'Broken Fence',\n",
              " 'Broken Glass',\n",
              " 'Broken Lock',\n",
              " 'Broken Water Fountain',\n",
              " 'Broken Window',\n",
              " 'Cave-in',\n",
              " 'Coin or Card Did Not Register',\n",
              " 'Concrete Barrier',\n",
              " 'Crash Cushion Defect',\n",
              " 'Credit Card Stuck in Meter',\n",
              " 'Damaged Bench',\n",
              " 'Damaged Leg or Pole Bent',\n",
              " 'Damaged Other',\n",
              " 'Damaged Telephone',\n",
              " 'Damaged Toilet/Sink',\n",
              " 'Damaged or Leaking Roof',\n",
              " 'Damaged or Missing Ad Box',\n",
              " 'Dead Animal',\n",
              " 'Decorative Necklace Lighting',\n",
              " 'Dirt, Debris, Litter Complaint',\n",
              " 'Dirty/Graffiti',\n",
              " 'Fallen Debris from Bridge',\n",
              " 'Fence',\n",
              " 'Flooded',\n",
              " 'Garbage or Litter',\n",
              " 'Graffiti',\n",
              " 'Graffiti - Bridge',\n",
              " 'Graffiti - Highway',\n",
              " 'Graffiti or Vandalism',\n",
              " 'Graffiti/Litter on Phone',\n",
              " 'Grass/Weeds',\n",
              " 'Guard Rail - Bridge',\n",
              " 'Guard Rail - Highway',\n",
              " 'Heating Problem',\n",
              " 'High Grass',\n",
              " 'Highway Fence',\n",
              " 'Hours of Operation',\n",
              " 'Lack of Supplies',\n",
              " 'Leaky Roof',\n",
              " 'Lighting',\n",
              " 'Litter',\n",
              " 'Loose Plate',\n",
              " 'Lost Coin',\n",
              " 'Missing/Stump',\n",
              " 'New Automatic Public Toilet Request',\n",
              " 'No Dial Tone',\n",
              " 'No Receipt',\n",
              " 'Other School Condition',\n",
              " 'Out of Order',\n",
              " 'Painted Line/Marking',\n",
              " 'Parking Card Stuck in Meter',\n",
              " 'Phone Blocking Sidewalk',\n",
              " 'Plumbing Problem',\n",
              " 'Poison Ivy',\n",
              " 'Police Report Not Requested',\n",
              " 'Police Report Requested',\n",
              " 'Pothole',\n",
              " 'Pothole - Highway',\n",
              " 'Relocation of Parking Meter',\n",
              " 'Rodent Sighting',\n",
              " 'Rodents/Mice',\n",
              " 'Rough Pavement',\n",
              " 'Sign Blocked by Tree',\n",
              " 'Sign Missing or Defective',\n",
              " 'Snow Removal Requested',\n",
              " 'Snow on Overpass',\n",
              " 'Snow or Ice',\n",
              " 'Snow/Ice',\n",
              " 'Structure - Indoors',\n",
              " 'Structure - Outdoors',\n",
              " 'Timer Defect - Fast/Fail',\n",
              " 'Unclean Condition',\n",
              " 'Unsafe Worksite',\n",
              " 'Unsecured Facility'}"
            ]
          },
          "metadata": {
            "tags": []
          },
          "execution_count": 9
        }
      ]
    },
    {
      "cell_type": "code",
      "metadata": {
        "id": "D2QwOF0nmFRa",
        "colab_type": "code",
        "colab": {}
      },
      "source": [
        "#1\n",
        "def graffiti_check(row):\n",
        "  if 'graffiti' in row.complaint_type.lower():\n",
        "    return True \n",
        "  if pd.notnull(row.descriptor):\n",
        "     if 'graffiti' in row.descriptor.lower():\n",
        "         return True\n",
        "  return False"
      ],
      "execution_count": 0,
      "outputs": []
    },
    {
      "cell_type": "code",
      "metadata": {
        "id": "5HyY0LsBmn3v",
        "colab_type": "code",
        "outputId": "532cca0a-6d90-4aaa-f224-e9f037ef3a78",
        "colab": {
          "base_uri": "https://localhost:8080/",
          "height": 34
        }
      },
      "source": [
        "\n",
        "type(graffiti_check)"
      ],
      "execution_count": 0,
      "outputs": [
        {
          "output_type": "execute_result",
          "data": {
            "text/plain": [
              "function"
            ]
          },
          "metadata": {
            "tags": []
          },
          "execution_count": 44
        }
      ]
    },
    {
      "cell_type": "code",
      "metadata": {
        "id": "eohEaIlDqa2e",
        "colab_type": "code",
        "outputId": "d12b3459-32e7-4bcb-a66c-570d26f73090",
        "colab": {
          "base_uri": "https://localhost:8080/",
          "height": 255
        }
      },
      "source": [
        "df.columns"
      ],
      "execution_count": 75,
      "outputs": [
        {
          "output_type": "execute_result",
          "data": {
            "text/plain": [
              "Index(['Unnamed: 0', 'Unnamed: 0.1', 'unique_key', 'created_date',\n",
              "       'closed_date', 'agency', 'agency_name', 'complaint_type', 'descriptor',\n",
              "       'location_type', 'incident_zip', 'incident_address', 'street_name',\n",
              "       'cross_street_1', 'cross_street_2', 'intersection_street_1',\n",
              "       'intersection_street_2', 'address_type', 'city', 'landmark',\n",
              "       'facility_type', 'status', 'due_date', 'resolution_description',\n",
              "       'resolution_action_updated_date', 'community_board', 'bbl', 'borough',\n",
              "       'x_coordinate_(state_plane)', 'y_coordinate_(state_plane)',\n",
              "       'open_data_channel_type', 'park_facility_name', 'park_borough',\n",
              "       'vehicle_type', 'taxi_company_borough', 'taxi_pick_up_location',\n",
              "       'bridge_highway_name', 'bridge_highway_direction', 'road_ramp',\n",
              "       'bridge_highway_segment', 'latitude', 'longitude', 'location',\n",
              "       'graffiti_flag'],\n",
              "      dtype='object')"
            ]
          },
          "metadata": {
            "tags": []
          },
          "execution_count": 75
        }
      ]
    },
    {
      "cell_type": "code",
      "metadata": {
        "id": "yaGErQfaxfcK",
        "colab_type": "code",
        "colab": {}
      },
      "source": [
        "#2\n",
        "df['graffiti_flag'] = df.apply(graffiti_check, axis=1)"
      ],
      "execution_count": 0,
      "outputs": []
    },
    {
      "cell_type": "code",
      "metadata": {
        "id": "SGlly8P-2eGa",
        "colab_type": "code",
        "colab": {}
      },
      "source": [
        "#3\n",
        "df_graffiti = df[['community_board']][df['graffiti_flag']]"
      ],
      "execution_count": 0,
      "outputs": []
    },
    {
      "cell_type": "code",
      "metadata": {
        "id": "fZXpkhSv2mhp",
        "colab_type": "code",
        "outputId": "b63909e8-e6d8-4046-be0a-0dd02dfc9e2f",
        "colab": {
          "base_uri": "https://localhost:8080/",
          "height": 514
        }
      },
      "source": [
        "df_graffiti.groupby('community_board').size().reset_index(name='count_of_grafitti_requests').nlargest(15, 'count_of_grafitti_requests')"
      ],
      "execution_count": 72,
      "outputs": [
        {
          "output_type": "execute_result",
          "data": {
            "text/html": [
              "<div>\n",
              "<style scoped>\n",
              "    .dataframe tbody tr th:only-of-type {\n",
              "        vertical-align: middle;\n",
              "    }\n",
              "\n",
              "    .dataframe tbody tr th {\n",
              "        vertical-align: top;\n",
              "    }\n",
              "\n",
              "    .dataframe thead th {\n",
              "        text-align: right;\n",
              "    }\n",
              "</style>\n",
              "<table border=\"1\" class=\"dataframe\">\n",
              "  <thead>\n",
              "    <tr style=\"text-align: right;\">\n",
              "      <th></th>\n",
              "      <th>community_board</th>\n",
              "      <th>count_of_grafitti_requests</th>\n",
              "    </tr>\n",
              "  </thead>\n",
              "  <tbody>\n",
              "    <tr>\n",
              "      <th>2</th>\n",
              "      <td>01 BROOKLYN</td>\n",
              "      <td>1797</td>\n",
              "    </tr>\n",
              "    <tr>\n",
              "      <th>13</th>\n",
              "      <td>03 MANHATTAN</td>\n",
              "      <td>1593</td>\n",
              "    </tr>\n",
              "    <tr>\n",
              "      <th>17</th>\n",
              "      <td>04 BROOKLYN</td>\n",
              "      <td>1429</td>\n",
              "    </tr>\n",
              "    <tr>\n",
              "      <th>12</th>\n",
              "      <td>03 BROOKLYN</td>\n",
              "      <td>1252</td>\n",
              "    </tr>\n",
              "    <tr>\n",
              "      <th>21</th>\n",
              "      <td>05 BROOKLYN</td>\n",
              "      <td>962</td>\n",
              "    </tr>\n",
              "    <tr>\n",
              "      <th>29</th>\n",
              "      <td>07 BROOKLYN</td>\n",
              "      <td>779</td>\n",
              "    </tr>\n",
              "    <tr>\n",
              "      <th>66</th>\n",
              "      <td>Unspecified BRONX</td>\n",
              "      <td>615</td>\n",
              "    </tr>\n",
              "    <tr>\n",
              "      <th>8</th>\n",
              "      <td>02 MANHATTAN</td>\n",
              "      <td>598</td>\n",
              "    </tr>\n",
              "    <tr>\n",
              "      <th>67</th>\n",
              "      <td>Unspecified BROOKLYN</td>\n",
              "      <td>591</td>\n",
              "    </tr>\n",
              "    <tr>\n",
              "      <th>4</th>\n",
              "      <td>01 QUEENS</td>\n",
              "      <td>572</td>\n",
              "    </tr>\n",
              "    <tr>\n",
              "      <th>0</th>\n",
              "      <td>0 Unspecified</td>\n",
              "      <td>540</td>\n",
              "    </tr>\n",
              "    <tr>\n",
              "      <th>51</th>\n",
              "      <td>12 QUEENS</td>\n",
              "      <td>539</td>\n",
              "    </tr>\n",
              "    <tr>\n",
              "      <th>49</th>\n",
              "      <td>12 BROOKLYN</td>\n",
              "      <td>532</td>\n",
              "    </tr>\n",
              "    <tr>\n",
              "      <th>54</th>\n",
              "      <td>14 BROOKLYN</td>\n",
              "      <td>532</td>\n",
              "    </tr>\n",
              "    <tr>\n",
              "      <th>33</th>\n",
              "      <td>08 BROOKLYN</td>\n",
              "      <td>505</td>\n",
              "    </tr>\n",
              "  </tbody>\n",
              "</table>\n",
              "</div>"
            ],
            "text/plain": [
              "         community_board  count_of_grafitti_requests\n",
              "2            01 BROOKLYN                        1797\n",
              "13          03 MANHATTAN                        1593\n",
              "17           04 BROOKLYN                        1429\n",
              "12           03 BROOKLYN                        1252\n",
              "21           05 BROOKLYN                         962\n",
              "29           07 BROOKLYN                         779\n",
              "66     Unspecified BRONX                         615\n",
              "8           02 MANHATTAN                         598\n",
              "67  Unspecified BROOKLYN                         591\n",
              "4              01 QUEENS                         572\n",
              "0          0 Unspecified                         540\n",
              "51             12 QUEENS                         539\n",
              "49           12 BROOKLYN                         532\n",
              "54           14 BROOKLYN                         532\n",
              "33           08 BROOKLYN                         505"
            ]
          },
          "metadata": {
            "tags": []
          },
          "execution_count": 72
        }
      ]
    }
  ]
}