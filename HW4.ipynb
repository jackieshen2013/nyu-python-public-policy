{
  "nbformat": 4,
  "nbformat_minor": 0,
  "metadata": {
    "colab": {
      "name": "HW4",
      "provenance": [],
      "collapsed_sections": [],
      "include_colab_link": true
    },
    "kernelspec": {
      "name": "python3",
      "display_name": "Python 3"
    }
  },
  "cells": [
    {
      "cell_type": "markdown",
      "metadata": {
        "id": "view-in-github",
        "colab_type": "text"
      },
      "source": [
        "<a href=\"https://colab.research.google.com/github/jackieshen2013/nyu-python-public-policy/blob/master/HW4.ipynb\" target=\"_parent\"><img src=\"https://colab.research.google.com/assets/colab-badge.svg\" alt=\"Open In Colab\"/></a>"
      ]
    },
    {
      "cell_type": "markdown",
      "metadata": {
        "id": "wzFjPc_kU6NL",
        "colab_type": "text"
      },
      "source": [
        "Problem Statement: When comparing total 311 request counts per community district against the respective population, there seems to be a general trend that the higher the population, the higher the number of 311 requests. However, there is a lot of variance in the data. Maybe narrowing in on specific complaint type categories will help us better understand trends in 311 requests across the city.\n",
        "\n",
        "\"Noise\" and \"heat and hot water\" were the most frequest requests in the entire 311 dataset. Let's try isolating the count of requests in each of those two categories versus all the other complaints.\n",
        "\n",
        "Step 1. First you will need to prep your data to get the count of complaints in each of the three categories. You can update the code from lecture that gets the total count of 311 requests per CD to instead get the count of 311 requests per CD that meet the criteria for the 3 categories. You should create three seprate dataframes, one per category:\n",
        "\n",
        "complaint_type = 'Noise - Residential'\n",
        "\n",
        "complaint_type = 'HEAT/HOT WATER'\n",
        "\n",
        "Everything else: (complaint_type != 'Noise - Residential' and complaint_type != 'HEAT/HOT WATER')\n",
        "\n",
        "Step 2. Create a stacked bar chart comprised of three stacked bars. The total height of each bar (the sum of the three stacked bars) should reflect the total count of 311 complaints per CD.\n",
        "\n",
        "number of 'Noise - Residential' complaints per CD\n",
        "\n",
        "number of 'HEAT/HOT WATER' complaints per CD\n",
        "\n",
        "number of other complaints per CD\n",
        "\n",
        "Step 3. Create a scatter plot of community district's 311 counts per category (y-axis) vs. CD population (x-axis). The scatter plot should show each of the three complaint categories in a different color.\n"
      ]
    },
    {
      "cell_type": "code",
      "metadata": {
        "id": "0FU02IpZUxFj",
        "colab_type": "code",
        "colab": {}
      },
      "source": [
        "import pandas as pd\n",
        "from google.colab import drive"
      ],
      "execution_count": 0,
      "outputs": []
    },
    {
      "cell_type": "code",
      "metadata": {
        "id": "MS7oO3uoU4e5",
        "colab_type": "code",
        "colab": {}
      },
      "source": [
        "import matplotlib.pyplot as plt \n",
        "import numpy as np"
      ],
      "execution_count": 0,
      "outputs": []
    },
    {
      "cell_type": "code",
      "metadata": {
        "id": "Zfvrb-KkVGqe",
        "colab_type": "code",
        "colab": {}
      },
      "source": [
        "pd.set_option('display.max_columns', None)\n",
        "pd.set_option('display.max_rows', None)"
      ],
      "execution_count": 0,
      "outputs": []
    },
    {
      "cell_type": "code",
      "metadata": {
        "id": "w1LLxRPiVS18",
        "colab_type": "code",
        "outputId": "a60eb2b2-5d93-423b-c644-f375820699b8",
        "colab": {
          "base_uri": "https://localhost:8080/",
          "height": 122
        }
      },
      "source": [
        "drive.mount('/content/drive')"
      ],
      "execution_count": 0,
      "outputs": [
        {
          "output_type": "stream",
          "text": [
            "Go to this URL in a browser: https://accounts.google.com/o/oauth2/auth?client_id=947318989803-6bn6qk8qdgf4n4g3pfee6491hc0brc4i.apps.googleusercontent.com&redirect_uri=urn%3aietf%3awg%3aoauth%3a2.0%3aoob&response_type=code&scope=email%20https%3a%2f%2fwww.googleapis.com%2fauth%2fdocs.test%20https%3a%2f%2fwww.googleapis.com%2fauth%2fdrive%20https%3a%2f%2fwww.googleapis.com%2fauth%2fdrive.photos.readonly%20https%3a%2f%2fwww.googleapis.com%2fauth%2fpeopleapi.readonly\n",
            "\n",
            "Enter your authorization code:\n",
            "··········\n",
            "Mounted at /content/drive\n"
          ],
          "name": "stdout"
        }
      ]
    },
    {
      "cell_type": "code",
      "metadata": {
        "id": "yAZE-OAiVdV4",
        "colab_type": "code",
        "outputId": "343d5db3-23bc-4964-e15b-037e0e1ff8c2",
        "colab": {
          "base_uri": "https://localhost:8080/",
          "height": 71
        }
      },
      "source": [
        "df = pd.read_csv('/content/drive/My Drive/Data for Python/cleaned_311_data.csv', header='infer')"
      ],
      "execution_count": 0,
      "outputs": [
        {
          "output_type": "stream",
          "text": [
            "/usr/local/lib/python3.6/dist-packages/IPython/core/interactiveshell.py:2718: DtypeWarning: Columns (9,18,21,32,35) have mixed types. Specify dtype option on import or set low_memory=False.\n",
            "  interactivity=interactivity, compiler=compiler, result=result)\n"
          ],
          "name": "stderr"
        }
      ]
    },
    {
      "cell_type": "code",
      "metadata": {
        "id": "3am5Z2hJV9Zh",
        "colab_type": "code",
        "colab": {}
      },
      "source": [
        "#Step 1"
      ],
      "execution_count": 0,
      "outputs": []
    },
    {
      "cell_type": "code",
      "metadata": {
        "id": "xB0RalKVhxQO",
        "colab_type": "code",
        "colab": {}
      },
      "source": [
        "noise = df[df.complaint_type == 'Noise - Residential']\n",
        "heatwater = df[df.complaint_type == 'HEAT/HOT WATER']\n",
        "other = df[(df.complaint_type != 'HEAT/HOT WATER') & (df.complaint_type != 'Noise - Residential')]"
      ],
      "execution_count": 0,
      "outputs": []
    },
    {
      "cell_type": "code",
      "metadata": {
        "id": "H2El9GF0h6ou",
        "colab_type": "code",
        "colab": {
          "base_uri": "https://localhost:8080/",
          "height": 85
        },
        "outputId": "c4b78434-3022-4da7-97b1-ab64e72eef3e"
      },
      "source": [
        "count_noise = noise.groupby('community_board').size().reset_index(name='count_of_311_requests')\n",
        "print(len(count_noise))\n",
        "\n",
        "count_heatwater = heatwater.groupby('community_board').size().reset_index(name='count_of_311_requests')\n",
        "print(len(count_heatwater))\n",
        "\n",
        "count_other = other.groupby('community_board').size().reset_index(name='count_of_311_requests')\n",
        "print(len(count_other))\n",
        "\n",
        "count_all = df.groupby('community_board').size().reset_index(name='count_of_311_requests')\n",
        "print(len(count_all))"
      ],
      "execution_count": 37,
      "outputs": [
        {
          "output_type": "stream",
          "text": [
            "69\n",
            "66\n",
            "77\n",
            "77\n"
          ],
          "name": "stdout"
        }
      ]
    },
    {
      "cell_type": "code",
      "metadata": {
        "id": "upkkK3LWiQ13",
        "colab_type": "code",
        "colab": {}
      },
      "source": [
        "\n",
        "valid_borocds = ['101','102','103','104','105','106','107','108','109','110','111','112','201','202','203','204','205','206','207','208','209','210','211','212','301','302','303','304','305','306','307','308','309','310','311','312','313','314','315','316','317','318','401','402','403','404','405','406','407','408','409','410','411','412','413','414','501','502','503']"
      ],
      "execution_count": 0,
      "outputs": []
    },
    {
      "cell_type": "code",
      "metadata": {
        "id": "Ah-rbg84iCef",
        "colab_type": "code",
        "colab": {}
      },
      "source": [
        "def recode_borocd_counts(row):\n",
        "  if row.community_board[0] != 'U':\n",
        "    if 'MANHATTAN' in row.community_board:\n",
        "      return '1' + row.community_board[0:2]\n",
        "    elif 'BRONX' in row.community_board:\n",
        "      return '2' + row.community_board[0:2]\n",
        "    elif 'BROOKLYN' in row.community_board:\n",
        "      return '3' + row.community_board[0:2]\n",
        "    elif 'QUEENS' in row.community_board:\n",
        "      return '4' + row.community_board[0:2]\n",
        "    elif 'STATEN ISLAND' in row.community_board:\n",
        "      return '5' + row.community_board[0:2]\n",
        "  else:\n",
        "    return 'Invalid borocd'\n",
        "\n",
        "count_noise['borocd'] = count_noise.apply(recode_borocd_counts, axis=1)\n",
        "\n",
        "count_heatwater['borocd'] = count_heatwater.apply(recode_borocd_counts, axis=1)\n",
        "\n",
        "count_other['borocd'] = count_other.apply(recode_borocd_counts, axis=1)\n",
        "\n",
        "count_all['borocd'] = count_all.apply(recode_borocd_counts, axis=1)"
      ],
      "execution_count": 0,
      "outputs": []
    },
    {
      "cell_type": "code",
      "metadata": {
        "id": "z0prasB4iHHw",
        "colab_type": "code",
        "colab": {
          "base_uri": "https://localhost:8080/",
          "height": 85
        },
        "outputId": "5fb9e481-6f4c-419c-cd82-7280ea616db1"
      },
      "source": [
        "count_noise = count_noise[count_noise.borocd.isin(valid_borocds)]\n",
        "print(len(count_noise))\n",
        "\n",
        "count_heatwater = count_heatwater[count_heatwater.borocd.isin(valid_borocds)]\n",
        "print(len(count_heatwater))\n",
        "\n",
        "count_other = count_other[count_other.borocd.isin(valid_borocds)]\n",
        "print(len(count_other))\n",
        "\n",
        "count_all = count_all[count_all.borocd.isin(valid_borocds)]\n",
        "print(len(count_all))"
      ],
      "execution_count": 44,
      "outputs": [
        {
          "output_type": "stream",
          "text": [
            "59\n",
            "59\n",
            "59\n",
            "59\n"
          ],
          "name": "stdout"
        }
      ]
    },
    {
      "cell_type": "code",
      "metadata": {
        "id": "c45XfhIQiUpC",
        "colab_type": "code",
        "colab": {
          "base_uri": "https://localhost:8080/",
          "height": 425
        },
        "outputId": "a17eabf6-17cd-4573-e058-91215da8fcfa"
      },
      "source": [
        "print(count_noise.head())\n",
        "print(count_heatwater.head())\n",
        "print(count_other.head())\n",
        "print(count_all.head())"
      ],
      "execution_count": 45,
      "outputs": [
        {
          "output_type": "stream",
          "text": [
            "    community_board  count_of_311_requests borocd\n",
            "1          01 BRONX                   3691    201\n",
            "2       01 BROOKLYN                   5844    301\n",
            "3      01 MANHATTAN                    722    101\n",
            "4         01 QUEENS                   4589    401\n",
            "5  01 STATEN ISLAND                   5052    501\n",
            "    community_board  count_of_311_requests borocd\n",
            "0          01 BRONX                   3346    201\n",
            "1       01 BROOKLYN                   2868    301\n",
            "2      01 MANHATTAN                    276    101\n",
            "3         01 QUEENS                   2466    401\n",
            "4  01 STATEN ISLAND                   1644    501\n",
            "    community_board  count_of_311_requests borocd\n",
            "1          01 BRONX                  20316    201\n",
            "2       01 BROOKLYN                  59389    301\n",
            "3      01 MANHATTAN                  20261    101\n",
            "4         01 QUEENS                  53370    401\n",
            "5  01 STATEN ISLAND                  58449    501\n",
            "    community_board  count_of_311_requests borocd\n",
            "1          01 BRONX                  27353    201\n",
            "2       01 BROOKLYN                  68101    301\n",
            "3      01 MANHATTAN                  21259    101\n",
            "4         01 QUEENS                  60425    401\n",
            "5  01 STATEN ISLAND                  65145    501\n"
          ],
          "name": "stdout"
        }
      ]
    },
    {
      "cell_type": "code",
      "metadata": {
        "id": "wlGdSl4yeSJ3",
        "colab_type": "code",
        "colab": {}
      },
      "source": [
        "#Step 2"
      ],
      "execution_count": 0,
      "outputs": []
    },
    {
      "cell_type": "code",
      "metadata": {
        "id": "FdmrJgYskpWE",
        "colab_type": "code",
        "outputId": "ff8d7d1c-4733-44a5-8191-96012835d515",
        "colab": {
          "base_uri": "https://localhost:8080/",
          "height": 413
        }
      },
      "source": [
        "position_on_x = np.arange(len(count_noise))\n",
        "plt.figure(figsize=(15, 6))\n",
        "\n",
        "plot1 = plt.bar(\n",
        "  position_on_x,\n",
        "  count_noise.count_of_311_requests,\n",
        "  align='center',\n",
        "  color='blue',\n",
        "  label='noise counts')\n",
        "\n",
        "plot2 = plt.bar(\n",
        "  position_on_x,\n",
        "  count_heatwater.count_of_311_requests,\n",
        "  bottom=np.array(count_noise.count_of_311_requests),\n",
        "  align='center',\n",
        "  color='red',\n",
        "  label='heat/hot water counts')\n",
        "\n",
        "plot3 = plt.bar(\n",
        "  position_on_x,\n",
        "  count_other.count_of_311_requests,\n",
        "  bottom=np.array(count_heatwater.count_of_311_requests)+np.array(count_noise.count_of_311_requests), \n",
        "  align='center',\n",
        "  color='cyan',\n",
        "  label='else counts')\n",
        "\n",
        "plt.xticks(position_on_x, count_noise.borocd, rotation=90)\n",
        "plt.title('count of complaint type')\n",
        "plt.xlabel('community board')\n",
        "plt.ylabel('# of complaint')\n",
        "plt.legend()\n",
        "plt.show()"
      ],
      "execution_count": 53,
      "outputs": [
        {
          "output_type": "display_data",
          "data": {
            "image/png": "[encoded data removed]",
            "text/plain": [
              "<Figure size 1080x432 with 1 Axes>"
            ]
          },
          "metadata": {
            "tags": []
          }
        }
      ]
    },
    {
      "cell_type": "code",
      "metadata": {
        "id": "AR-Cfnvip2lc",
        "colab_type": "code",
        "colab": {}
      },
      "source": [
        "#Step 3"
      ],
      "execution_count": 0,
      "outputs": []
    },
    {
      "cell_type": "code",
      "metadata": {
        "id": "a_sdjBFd4KEP",
        "colab_type": "code",
        "colab": {
          "base_uri": "https://localhost:8080/",
          "height": 204
        },
        "outputId": "1a876636-fa25-416b-be68-a2b6987ed461"
      },
      "source": [
        "population = pd.read_csv('https://data.cityofnewyork.us/api/views/xi7c-iiu2/rows.csv?accessType=DOWNLOAD', header='infer')\n",
        "population.head()"
      ],
      "execution_count": 70,
      "outputs": [
        {
          "output_type": "execute_result",
          "data": {
            "text/html": [
              "<div>\n",
              "<style scoped>\n",
              "    .dataframe tbody tr th:only-of-type {\n",
              "        vertical-align: middle;\n",
              "    }\n",
              "\n",
              "    .dataframe tbody tr th {\n",
              "        vertical-align: top;\n",
              "    }\n",
              "\n",
              "    .dataframe thead th {\n",
              "        text-align: right;\n",
              "    }\n",
              "</style>\n",
              "<table border=\"1\" class=\"dataframe\">\n",
              "  <thead>\n",
              "    <tr style=\"text-align: right;\">\n",
              "      <th></th>\n",
              "      <th>Borough</th>\n",
              "      <th>CD Number</th>\n",
              "      <th>CD Name</th>\n",
              "      <th>1970 Population</th>\n",
              "      <th>1980 Population</th>\n",
              "      <th>1990 Population</th>\n",
              "      <th>2000 Population</th>\n",
              "      <th>2010 Population</th>\n",
              "    </tr>\n",
              "  </thead>\n",
              "  <tbody>\n",
              "    <tr>\n",
              "      <th>0</th>\n",
              "      <td>Bronx</td>\n",
              "      <td>1</td>\n",
              "      <td>Melrose, Mott Haven, Port Morris</td>\n",
              "      <td>138557</td>\n",
              "      <td>78441</td>\n",
              "      <td>77214</td>\n",
              "      <td>82159</td>\n",
              "      <td>91497</td>\n",
              "    </tr>\n",
              "    <tr>\n",
              "      <th>1</th>\n",
              "      <td>Bronx</td>\n",
              "      <td>2</td>\n",
              "      <td>Hunts Point, Longwood</td>\n",
              "      <td>99493</td>\n",
              "      <td>34399</td>\n",
              "      <td>39443</td>\n",
              "      <td>46824</td>\n",
              "      <td>52246</td>\n",
              "    </tr>\n",
              "    <tr>\n",
              "      <th>2</th>\n",
              "      <td>Bronx</td>\n",
              "      <td>3</td>\n",
              "      <td>Morrisania, Crotona Park East</td>\n",
              "      <td>150636</td>\n",
              "      <td>53635</td>\n",
              "      <td>57162</td>\n",
              "      <td>68574</td>\n",
              "      <td>79762</td>\n",
              "    </tr>\n",
              "    <tr>\n",
              "      <th>3</th>\n",
              "      <td>Bronx</td>\n",
              "      <td>4</td>\n",
              "      <td>Highbridge, Concourse Village</td>\n",
              "      <td>144207</td>\n",
              "      <td>114312</td>\n",
              "      <td>119962</td>\n",
              "      <td>139563</td>\n",
              "      <td>146441</td>\n",
              "    </tr>\n",
              "    <tr>\n",
              "      <th>4</th>\n",
              "      <td>Bronx</td>\n",
              "      <td>5</td>\n",
              "      <td>University Hts., Fordham, Mt. Hope</td>\n",
              "      <td>121807</td>\n",
              "      <td>107995</td>\n",
              "      <td>118435</td>\n",
              "      <td>128313</td>\n",
              "      <td>128200</td>\n",
              "    </tr>\n",
              "  </tbody>\n",
              "</table>\n",
              "</div>"
            ],
            "text/plain": [
              "  Borough  CD Number                             CD Name  1970 Population  \\\n",
              "0   Bronx          1    Melrose, Mott Haven, Port Morris           138557   \n",
              "1   Bronx          2               Hunts Point, Longwood            99493   \n",
              "2   Bronx          3       Morrisania, Crotona Park East           150636   \n",
              "3   Bronx          4       Highbridge, Concourse Village           144207   \n",
              "4   Bronx          5  University Hts., Fordham, Mt. Hope           121807   \n",
              "\n",
              "   1980 Population  1990 Population  2000 Population  2010 Population  \n",
              "0            78441            77214            82159            91497  \n",
              "1            34399            39443            46824            52246  \n",
              "2            53635            57162            68574            79762  \n",
              "3           114312           119962           139563           146441  \n",
              "4           107995           118435           128313           128200  "
            ]
          },
          "metadata": {
            "tags": []
          },
          "execution_count": 70
        }
      ]
    },
    {
      "cell_type": "code",
      "metadata": {
        "id": "bzmtGm-_4OGE",
        "colab_type": "code",
        "colab": {}
      },
      "source": [
        "def recode_borocd_pop(row):\n",
        "  if row.Borough == 'Manhattan':\n",
        "    return str(100 + row['CD Number'])\n",
        "  elif row.Borough == 'Bronx':\n",
        "    return str(200 + row['CD Number'])\n",
        "  elif row.Borough == 'Brooklyn':\n",
        "    return str(300 + row['CD Number'])\n",
        "  elif row.Borough == 'Queens':\n",
        "    return str(400 + row['CD Number'])\n",
        "  elif row.Borough == 'Staten Island':\n",
        "    return str(500 + row['CD Number'])\n",
        "  else:\n",
        "    return 'Invalid borocd'\n",
        "\n",
        "population['borocd'] = population.apply(recode_borocd_pop, axis=1)"
      ],
      "execution_count": 0,
      "outputs": []
    },
    {
      "cell_type": "code",
      "metadata": {
        "id": "-TRDP43A5gDx",
        "colab_type": "code",
        "colab": {}
      },
      "source": [
        "merged_count_noise = pd.merge(left=count_noise, right=population, left_on='borocd', right_on='borocd')\n",
        "merged_count_heatwater = pd.merge(left=count_heatwater, right=population, left_on='borocd', right_on='borocd')\n",
        "merged_count_other = pd.merge(left=count_other, right=population, left_on='borocd', right_on='borocd')"
      ],
      "execution_count": 0,
      "outputs": []
    },
    {
      "cell_type": "code",
      "metadata": {
        "id": "LP5lhXYX4XW_",
        "colab_type": "code",
        "colab": {}
      },
      "source": [
        "merged_count_noise = merged_count_noise[['borocd', 'Borough', 'CD Name', '2010 Population', 'count_of_311_requests']]\n",
        "merged_count_heatwater = merged_count_heatwater[['borocd', 'Borough', 'CD Name', '2010 Population', 'count_of_311_requests']]\n",
        "merged_count_other = merged_count_other[['borocd', 'Borough', 'CD Name', '2010 Population', 'count_of_311_requests']]"
      ],
      "execution_count": 0,
      "outputs": []
    },
    {
      "cell_type": "code",
      "metadata": {
        "id": "xcwyX_7C9cDD",
        "colab_type": "code",
        "colab": {
          "base_uri": "https://localhost:8080/",
          "height": 204
        },
        "outputId": "a6675f2b-152b-441b-cfda-9823d21f46de"
      },
      "source": [
        "merged_count_noise.head()\n"
      ],
      "execution_count": 83,
      "outputs": [
        {
          "output_type": "execute_result",
          "data": {
            "text/html": [
              "<div>\n",
              "<style scoped>\n",
              "    .dataframe tbody tr th:only-of-type {\n",
              "        vertical-align: middle;\n",
              "    }\n",
              "\n",
              "    .dataframe tbody tr th {\n",
              "        vertical-align: top;\n",
              "    }\n",
              "\n",
              "    .dataframe thead th {\n",
              "        text-align: right;\n",
              "    }\n",
              "</style>\n",
              "<table border=\"1\" class=\"dataframe\">\n",
              "  <thead>\n",
              "    <tr style=\"text-align: right;\">\n",
              "      <th></th>\n",
              "      <th>borocd</th>\n",
              "      <th>Borough</th>\n",
              "      <th>CD Name</th>\n",
              "      <th>2010 Population</th>\n",
              "      <th>count_of_311_requests</th>\n",
              "    </tr>\n",
              "  </thead>\n",
              "  <tbody>\n",
              "    <tr>\n",
              "      <th>0</th>\n",
              "      <td>201</td>\n",
              "      <td>Bronx</td>\n",
              "      <td>Melrose, Mott Haven, Port Morris</td>\n",
              "      <td>91497</td>\n",
              "      <td>3691</td>\n",
              "    </tr>\n",
              "    <tr>\n",
              "      <th>1</th>\n",
              "      <td>301</td>\n",
              "      <td>Brooklyn</td>\n",
              "      <td>Williamsburg, Greenpoint</td>\n",
              "      <td>173083</td>\n",
              "      <td>5844</td>\n",
              "    </tr>\n",
              "    <tr>\n",
              "      <th>2</th>\n",
              "      <td>101</td>\n",
              "      <td>Manhattan</td>\n",
              "      <td>Battery Park City, Tribeca</td>\n",
              "      <td>60978</td>\n",
              "      <td>722</td>\n",
              "    </tr>\n",
              "    <tr>\n",
              "      <th>3</th>\n",
              "      <td>401</td>\n",
              "      <td>Queens</td>\n",
              "      <td>Astoria, Long Island City</td>\n",
              "      <td>191105</td>\n",
              "      <td>4589</td>\n",
              "    </tr>\n",
              "    <tr>\n",
              "      <th>4</th>\n",
              "      <td>501</td>\n",
              "      <td>Staten Island</td>\n",
              "      <td>Stapleton, Port Richmond</td>\n",
              "      <td>175756</td>\n",
              "      <td>5052</td>\n",
              "    </tr>\n",
              "  </tbody>\n",
              "</table>\n",
              "</div>"
            ],
            "text/plain": [
              "  borocd        Borough                           CD Name  2010 Population  \\\n",
              "0    201          Bronx  Melrose, Mott Haven, Port Morris            91497   \n",
              "1    301       Brooklyn          Williamsburg, Greenpoint           173083   \n",
              "2    101      Manhattan        Battery Park City, Tribeca            60978   \n",
              "3    401         Queens         Astoria, Long Island City           191105   \n",
              "4    501  Staten Island          Stapleton, Port Richmond           175756   \n",
              "\n",
              "   count_of_311_requests  \n",
              "0                   3691  \n",
              "1                   5844  \n",
              "2                    722  \n",
              "3                   4589  \n",
              "4                   5052  "
            ]
          },
          "metadata": {
            "tags": []
          },
          "execution_count": 83
        }
      ]
    },
    {
      "cell_type": "markdown",
      "metadata": {
        "id": "gOuzoo2nr9WM",
        "colab_type": "text"
      },
      "source": [
        "Step 3. Create a scatter plot of community district's 311 counts per category (y-axis) vs. CD population (x-axis). The scatter plot should show each of the three complaint categories in a different color.\n"
      ]
    },
    {
      "cell_type": "code",
      "metadata": {
        "id": "lZs57KhTqerL",
        "colab_type": "code",
        "outputId": "944d3f63-2999-429d-9afb-35556d0d88de",
        "colab": {
          "base_uri": "https://localhost:8080/",
          "height": 404
        }
      },
      "source": [
        "\n",
        "colors = [\"red\", \"green\", \"blue\"]\n",
        "groups = [\"Noise\", \"Heat/Water\", \"Other\"]\n",
        "\n",
        "plt.figure(figsize=(15,6))\n",
        "\n",
        "plt.scatter(\n",
        "  merged_count_noise['2010 Population']/1000,\n",
        "  merged_count_noise.count_of_311_requests,\n",
        "  alpha=0.8,\n",
        "  c=colors[0],\n",
        "  s=50,\n",
        "  label=groups[0]\n",
        ")\n",
        "\n",
        "plt.scatter(\n",
        "  merged_count_heatwater['2010 Population']/1000,\n",
        "  merged_count_heatwater.count_of_311_requests,\n",
        "  alpha=0.8,\n",
        "  c=colors[1],\n",
        "  s=50,\n",
        "  label=groups[1]\n",
        ")\n",
        "\n",
        "plt.scatter(\n",
        "  merged_count_other['2010 Population']/1000,\n",
        "  merged_count_other.count_of_311_requests,\n",
        "  alpha=0.8,\n",
        "  c=colors[2],\n",
        "  s=50,\n",
        "  label=groups[2]\n",
        ")\n",
        "plt.title('311 Requests vs. Community District Population')\n",
        "plt.xlabel('Population in Community District (Thousands)')\n",
        "plt.ylabel('# of 311 Requests in Community District')\n",
        "\n",
        "\n",
        "plt.show()"
      ],
      "execution_count": 87,
      "outputs": [
        {
          "output_type": "display_data",
          "data": {
            "image/png": "[encoded data removed]",
            "text/plain": [
              "<Figure size 1080x432 with 1 Axes>"
            ]
          },
          "metadata": {
            "tags": []
          }
        }
      ]
    }
  ]
}