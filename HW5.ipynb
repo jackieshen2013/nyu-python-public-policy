{
  "nbformat": 4,
  "nbformat_minor": 0,
  "metadata": {
    "colab": {
      "name": "HW5.ipynb",
      "provenance": [],
      "collapsed_sections": [],
      "include_colab_link": true
    },
    "kernelspec": {
      "name": "python3",
      "display_name": "Python 3"
    }
  },
  "cells": [
    {
      "cell_type": "markdown",
      "metadata": {
        "id": "view-in-github",
        "colab_type": "text"
      },
      "source": [
        "<a href=\"https://colab.research.google.com/github/jackieshen2013/nyu-python-public-policy/blob/master/HW5.ipynb\" target=\"_parent\"><img src=\"https://colab.research.google.com/assets/colab-badge.svg\" alt=\"Open In Colab\"/></a>"
      ]
    },
    {
      "cell_type": "markdown",
      "metadata": {
        "id": "rc5VkDZGwqFx",
        "colab_type": "text"
      },
      "source": [
        "##HOMEWORK 5: The relationship between concentration of homeless shelters and count of 311 requests related to homeless services\n",
        "\n",
        "Problem Statement: Homelesses is a big concern in New York City. The Department of Homeless Services is tasked with providing services and housing for people who are homeless. They recently began publishing the count of homeless shelter buildings per community district on NYC Open Data to provide more transparency into where shelters are located. The dataset provides counts in multiple columns for different categories of buildings. It also includes counts from different reporting dates.\n",
        "\n",
        "The 311 Service Requests dataset includes a complaint type called \"Homeless Person Assistance\". Let's find out if there's a relationship between the number of homeless assistance 311 requests and the concentration of homeless shelter buildings per community district."
      ]
    },
    {
      "cell_type": "code",
      "metadata": {
        "id": "HnALNfB117vK",
        "colab_type": "code",
        "colab": {}
      },
      "source": [
        "import pandas as pd\n",
        "from google.colab import drive\n",
        "import matplotlib.pyplot as plt \n",
        "import numpy as np\n",
        "import statsmodels.api as sm # package for doing statistics"
      ],
      "execution_count": 0,
      "outputs": []
    },
    {
      "cell_type": "code",
      "metadata": {
        "id": "ZYAMIp8F2GhN",
        "colab_type": "code",
        "colab": {}
      },
      "source": [
        "pd.set_option('display.max_columns', None)\n",
        "pd.set_option('display.max_rows', None)"
      ],
      "execution_count": 0,
      "outputs": []
    },
    {
      "cell_type": "code",
      "metadata": {
        "id": "OXWvumfg2MY8",
        "colab_type": "code",
        "outputId": "5b6d1093-a384-47da-f871-ba59984d138e",
        "colab": {
          "base_uri": "https://localhost:8080/",
          "height": 122
        }
      },
      "source": [
        "drive.mount('/content/drive')"
      ],
      "execution_count": 0,
      "outputs": [
        {
          "output_type": "stream",
          "text": [
            "Go to this URL in a browser: https://accounts.google.com/o/oauth2/auth?client_id=947318989803-6bn6qk8qdgf4n4g3pfee6491hc0brc4i.apps.googleusercontent.com&redirect_uri=urn%3aietf%3awg%3aoauth%3a2.0%3aoob&response_type=code&scope=email%20https%3a%2f%2fwww.googleapis.com%2fauth%2fdocs.test%20https%3a%2f%2fwww.googleapis.com%2fauth%2fdrive%20https%3a%2f%2fwww.googleapis.com%2fauth%2fdrive.photos.readonly%20https%3a%2f%2fwww.googleapis.com%2fauth%2fpeopleapi.readonly\n",
            "\n",
            "Enter your authorization code:\n",
            "··········\n",
            "Mounted at /content/drive\n"
          ],
          "name": "stdout"
        }
      ]
    },
    {
      "cell_type": "markdown",
      "metadata": {
        "id": "WcP4-foew9Tg",
        "colab_type": "text"
      },
      "source": [
        "#Step 1\n",
        "\n",
        "Load the datasets:\n",
        "* Cleaned 311 data that excludes records with invalid community districts. Shared with you on Google Drive as cleaned_311_data_revised.csv\n",
        "\n",
        "* NYC Open dataset that provides the total count of different types of homeless shelter buildings per community district.\n",
        " * Data source page where you can preview the data: https://data.cityofnewyork.us/Social-Services/Buildings-by-Borough-and-Community-District/3qem-6v3v/data\n",
        " * CSV data download link you can plug into the pd.read_csv() function: https://data.cityofnewyork.us/api/views/3qem-6v3v/rows.csv?accessType=DOWNLOAD\n"
      ]
    },
    {
      "cell_type": "code",
      "metadata": {
        "id": "frsR2jj0uJ_L",
        "colab_type": "code",
        "outputId": "2dd6aa18-a052-40cc-db42-ce607eed1207",
        "colab": {
          "base_uri": "https://localhost:8080/",
          "height": 71
        }
      },
      "source": [
        "\n",
        "df = pd.read_csv('/content/drive/My Drive/Data for Python/cleaned_311_data_revised.csv', header='infer')"
      ],
      "execution_count": 0,
      "outputs": [
        {
          "output_type": "stream",
          "text": [
            "/usr/local/lib/python3.6/dist-packages/IPython/core/interactiveshell.py:2718: DtypeWarning: Columns (10,19,20,22,33,36,37,38,39) have mixed types. Specify dtype option on import or set low_memory=False.\n",
            "  interactivity=interactivity, compiler=compiler, result=result)\n"
          ],
          "name": "stderr"
        }
      ]
    },
    {
      "cell_type": "code",
      "metadata": {
        "id": "nkZFvgLr2Vsr",
        "colab_type": "code",
        "colab": {}
      },
      "source": [
        "\n",
        "# Data source for population by Community District: https://data.cityofnewyork.us/City-Government/New-York-City-Population-By-Community-Districts/xi7c-iiu2/data\n",
        "# This time we'll load it directly from NYC Open Data instead of from Google Drive\n",
        "shelter = pd.read_csv('https://data.cityofnewyork.us/api/views/3qem-6v3v/rows.csv?accessType=DOWNLOAD', header='infer')"
      ],
      "execution_count": 0,
      "outputs": []
    },
    {
      "cell_type": "code",
      "metadata": {
        "id": "5vcKa_mU3Mw3",
        "colab_type": "code",
        "outputId": "994cf2d3-f3dd-44e9-f936-b4130b4c112b",
        "colab": {
          "base_uri": "https://localhost:8080/",
          "height": 221
        }
      },
      "source": [
        "shelter.head()"
      ],
      "execution_count": 0,
      "outputs": [
        {
          "output_type": "execute_result",
          "data": {
            "text/html": [
              "<div>\n",
              "<style scoped>\n",
              "    .dataframe tbody tr th:only-of-type {\n",
              "        vertical-align: middle;\n",
              "    }\n",
              "\n",
              "    .dataframe tbody tr th {\n",
              "        vertical-align: top;\n",
              "    }\n",
              "\n",
              "    .dataframe thead th {\n",
              "        text-align: right;\n",
              "    }\n",
              "</style>\n",
              "<table border=\"1\" class=\"dataframe\">\n",
              "  <thead>\n",
              "    <tr style=\"text-align: right;\">\n",
              "      <th></th>\n",
              "      <th>Report Date</th>\n",
              "      <th>Borough</th>\n",
              "      <th>Community District</th>\n",
              "      <th>Adult Family Comm Hotel</th>\n",
              "      <th>Adult Family Shelter</th>\n",
              "      <th>Adult Shelter</th>\n",
              "      <th>Adult Shelter Comm Hotel</th>\n",
              "      <th>FWC Cluster</th>\n",
              "      <th>FWC Comm Hotel</th>\n",
              "      <th>FWC Shelter</th>\n",
              "    </tr>\n",
              "  </thead>\n",
              "  <tbody>\n",
              "    <tr>\n",
              "      <th>0</th>\n",
              "      <td>07/31/2018</td>\n",
              "      <td>Bronx</td>\n",
              "      <td>201</td>\n",
              "      <td>NaN</td>\n",
              "      <td>1.0</td>\n",
              "      <td>2.0</td>\n",
              "      <td>NaN</td>\n",
              "      <td>4.0</td>\n",
              "      <td>1.0</td>\n",
              "      <td>7.0</td>\n",
              "    </tr>\n",
              "    <tr>\n",
              "      <th>1</th>\n",
              "      <td>07/31/2018</td>\n",
              "      <td>Bronx</td>\n",
              "      <td>202</td>\n",
              "      <td>NaN</td>\n",
              "      <td>1.0</td>\n",
              "      <td>NaN</td>\n",
              "      <td>NaN</td>\n",
              "      <td>3.0</td>\n",
              "      <td>NaN</td>\n",
              "      <td>6.0</td>\n",
              "    </tr>\n",
              "    <tr>\n",
              "      <th>2</th>\n",
              "      <td>07/31/2018</td>\n",
              "      <td>Bronx</td>\n",
              "      <td>203</td>\n",
              "      <td>NaN</td>\n",
              "      <td>2.0</td>\n",
              "      <td>5.0</td>\n",
              "      <td>NaN</td>\n",
              "      <td>5.0</td>\n",
              "      <td>2.0</td>\n",
              "      <td>9.0</td>\n",
              "    </tr>\n",
              "    <tr>\n",
              "      <th>3</th>\n",
              "      <td>07/31/2018</td>\n",
              "      <td>Bronx</td>\n",
              "      <td>204</td>\n",
              "      <td>NaN</td>\n",
              "      <td>NaN</td>\n",
              "      <td>2.0</td>\n",
              "      <td>NaN</td>\n",
              "      <td>18.0</td>\n",
              "      <td>NaN</td>\n",
              "      <td>14.0</td>\n",
              "    </tr>\n",
              "    <tr>\n",
              "      <th>4</th>\n",
              "      <td>07/31/2018</td>\n",
              "      <td>Bronx</td>\n",
              "      <td>205</td>\n",
              "      <td>NaN</td>\n",
              "      <td>2.0</td>\n",
              "      <td>3.0</td>\n",
              "      <td>NaN</td>\n",
              "      <td>12.0</td>\n",
              "      <td>NaN</td>\n",
              "      <td>5.0</td>\n",
              "    </tr>\n",
              "  </tbody>\n",
              "</table>\n",
              "</div>"
            ],
            "text/plain": [
              "  Report Date Borough  Community District  Adult Family Comm Hotel  \\\n",
              "0  07/31/2018   Bronx                 201                      NaN   \n",
              "1  07/31/2018   Bronx                 202                      NaN   \n",
              "2  07/31/2018   Bronx                 203                      NaN   \n",
              "3  07/31/2018   Bronx                 204                      NaN   \n",
              "4  07/31/2018   Bronx                 205                      NaN   \n",
              "\n",
              "   Adult Family Shelter  Adult Shelter  Adult Shelter Comm Hotel  FWC Cluster  \\\n",
              "0                   1.0            2.0                       NaN          4.0   \n",
              "1                   1.0            NaN                       NaN          3.0   \n",
              "2                   2.0            5.0                       NaN          5.0   \n",
              "3                   NaN            2.0                       NaN         18.0   \n",
              "4                   2.0            3.0                       NaN         12.0   \n",
              "\n",
              "   FWC Comm Hotel  FWC Shelter  \n",
              "0             1.0          7.0  \n",
              "1             NaN          6.0  \n",
              "2             2.0          9.0  \n",
              "3             NaN         14.0  \n",
              "4             NaN          5.0  "
            ]
          },
          "metadata": {
            "tags": []
          },
          "execution_count": 65
        }
      ]
    },
    {
      "cell_type": "markdown",
      "metadata": {
        "id": "7WCwWdVTxMhY",
        "colab_type": "text"
      },
      "source": [
        "#Step 2\n",
        "Filter the shelter count dataframe to only keep rows where the value in the 'Report Date' column is '09/30/2019'"
      ]
    },
    {
      "cell_type": "code",
      "metadata": {
        "id": "M2VDfNmGzaZI",
        "colab_type": "code",
        "colab": {}
      },
      "source": [
        "shelter=shelter[shelter['Report Date']  == \"09/30/2019\"]"
      ],
      "execution_count": 0,
      "outputs": []
    },
    {
      "cell_type": "markdown",
      "metadata": {
        "id": "993fzGqIxO63",
        "colab_type": "text"
      },
      "source": [
        "#Step 3\n",
        "Create a new column in the shelter count dataframe that calculates the sum of all the individual count columns: 'Adult Family Comm Hotel', 'Adult Family Shelter', 'Adult Shelter', 'Adult Shelter Comm Hotel', 'FWC Cluster', 'FWC Comm Hotel', 'FWC Shelter'\n",
        "\n",
        "* Tip: There are multiple ways to add these columns together. With one approach, you may find that your total column contains NaN values. This is because many of the columns contains NaN/empty values. When you add a real number to a NaN, the sum will be NaN. To get around this, you will need to fill in all the NaN values with 0 instead. Use the .fillna(0) method on your shelter count dataframe."
      ]
    },
    {
      "cell_type": "code",
      "metadata": {
        "id": "-HbmMveoxuC-",
        "colab_type": "code",
        "outputId": "e83e0103-4786-40ee-f466-357998eef150",
        "colab": {
          "base_uri": "https://localhost:8080/",
          "height": 221
        }
      },
      "source": [
        "columns=[ 'Adult Family Comm Hotel', 'Adult Family Shelter', 'Adult Shelter', 'Adult Shelter Comm Hotel', 'FWC Cluster', 'FWC Comm Hotel', 'FWC Shelter']\n",
        "shelter[\"sum\"] = 0\n",
        "for col in columns:\n",
        "  shelter[\"sum\"] = shelter[\"sum\"] + shelter[col].fillna(0)\n",
        "shelter.head()"
      ],
      "execution_count": 0,
      "outputs": [
        {
          "output_type": "execute_result",
          "data": {
            "text/html": [
              "<div>\n",
              "<style scoped>\n",
              "    .dataframe tbody tr th:only-of-type {\n",
              "        vertical-align: middle;\n",
              "    }\n",
              "\n",
              "    .dataframe tbody tr th {\n",
              "        vertical-align: top;\n",
              "    }\n",
              "\n",
              "    .dataframe thead th {\n",
              "        text-align: right;\n",
              "    }\n",
              "</style>\n",
              "<table border=\"1\" class=\"dataframe\">\n",
              "  <thead>\n",
              "    <tr style=\"text-align: right;\">\n",
              "      <th></th>\n",
              "      <th>Report Date</th>\n",
              "      <th>Borough</th>\n",
              "      <th>Community District</th>\n",
              "      <th>Adult Family Comm Hotel</th>\n",
              "      <th>Adult Family Shelter</th>\n",
              "      <th>Adult Shelter</th>\n",
              "      <th>Adult Shelter Comm Hotel</th>\n",
              "      <th>FWC Cluster</th>\n",
              "      <th>FWC Comm Hotel</th>\n",
              "      <th>FWC Shelter</th>\n",
              "      <th>sum</th>\n",
              "    </tr>\n",
              "  </thead>\n",
              "  <tbody>\n",
              "    <tr>\n",
              "      <th>624</th>\n",
              "      <td>09/30/2019</td>\n",
              "      <td>Bronx</td>\n",
              "      <td>201</td>\n",
              "      <td>NaN</td>\n",
              "      <td>1.0</td>\n",
              "      <td>2.0</td>\n",
              "      <td>NaN</td>\n",
              "      <td>4.0</td>\n",
              "      <td>1.0</td>\n",
              "      <td>7.0</td>\n",
              "      <td>15.0</td>\n",
              "    </tr>\n",
              "    <tr>\n",
              "      <th>625</th>\n",
              "      <td>09/30/2019</td>\n",
              "      <td>Bronx</td>\n",
              "      <td>202</td>\n",
              "      <td>NaN</td>\n",
              "      <td>1.0</td>\n",
              "      <td>NaN</td>\n",
              "      <td>NaN</td>\n",
              "      <td>2.0</td>\n",
              "      <td>NaN</td>\n",
              "      <td>5.0</td>\n",
              "      <td>8.0</td>\n",
              "    </tr>\n",
              "    <tr>\n",
              "      <th>626</th>\n",
              "      <td>09/30/2019</td>\n",
              "      <td>Bronx</td>\n",
              "      <td>203</td>\n",
              "      <td>NaN</td>\n",
              "      <td>3.0</td>\n",
              "      <td>6.0</td>\n",
              "      <td>NaN</td>\n",
              "      <td>3.0</td>\n",
              "      <td>2.0</td>\n",
              "      <td>9.0</td>\n",
              "      <td>23.0</td>\n",
              "    </tr>\n",
              "    <tr>\n",
              "      <th>627</th>\n",
              "      <td>09/30/2019</td>\n",
              "      <td>Bronx</td>\n",
              "      <td>204</td>\n",
              "      <td>NaN</td>\n",
              "      <td>NaN</td>\n",
              "      <td>2.0</td>\n",
              "      <td>1.0</td>\n",
              "      <td>14.0</td>\n",
              "      <td>NaN</td>\n",
              "      <td>15.0</td>\n",
              "      <td>32.0</td>\n",
              "    </tr>\n",
              "    <tr>\n",
              "      <th>628</th>\n",
              "      <td>09/30/2019</td>\n",
              "      <td>Bronx</td>\n",
              "      <td>205</td>\n",
              "      <td>NaN</td>\n",
              "      <td>1.0</td>\n",
              "      <td>3.0</td>\n",
              "      <td>NaN</td>\n",
              "      <td>12.0</td>\n",
              "      <td>NaN</td>\n",
              "      <td>5.0</td>\n",
              "      <td>21.0</td>\n",
              "    </tr>\n",
              "  </tbody>\n",
              "</table>\n",
              "</div>"
            ],
            "text/plain": [
              "    Report Date Borough  Community District  Adult Family Comm Hotel  \\\n",
              "624  09/30/2019   Bronx                 201                      NaN   \n",
              "625  09/30/2019   Bronx                 202                      NaN   \n",
              "626  09/30/2019   Bronx                 203                      NaN   \n",
              "627  09/30/2019   Bronx                 204                      NaN   \n",
              "628  09/30/2019   Bronx                 205                      NaN   \n",
              "\n",
              "     Adult Family Shelter  Adult Shelter  Adult Shelter Comm Hotel  \\\n",
              "624                   1.0            2.0                       NaN   \n",
              "625                   1.0            NaN                       NaN   \n",
              "626                   3.0            6.0                       NaN   \n",
              "627                   NaN            2.0                       1.0   \n",
              "628                   1.0            3.0                       NaN   \n",
              "\n",
              "     FWC Cluster  FWC Comm Hotel  FWC Shelter   sum  \n",
              "624          4.0             1.0          7.0  15.0  \n",
              "625          2.0             NaN          5.0   8.0  \n",
              "626          3.0             2.0          9.0  23.0  \n",
              "627         14.0             NaN         15.0  32.0  \n",
              "628         12.0             NaN          5.0  21.0  "
            ]
          },
          "metadata": {
            "tags": []
          },
          "execution_count": 75
        }
      ]
    },
    {
      "cell_type": "markdown",
      "metadata": {
        "id": "bEwLzPjNxRnv",
        "colab_type": "text"
      },
      "source": [
        "#Step 4\n",
        "From the 311 dataset, create a subset of all the 311 requests where complaint_type == 'Homeless Person Assistance'"
      ]
    },
    {
      "cell_type": "code",
      "metadata": {
        "id": "vkZuh-gA0Jao",
        "colab_type": "code",
        "outputId": "6b481e90-0e06-4e25-cea7-fa730022ea11",
        "colab": {
          "base_uri": "https://localhost:8080/",
          "height": 581
        }
      },
      "source": [
        "HPA = df[df.complaint_type == 'Homeless Person Assistance']\n",
        "HPA.head()"
      ],
      "execution_count": 0,
      "outputs": [
        {
          "output_type": "execute_result",
          "data": {
            "text/html": [
              "<div>\n",
              "<style scoped>\n",
              "    .dataframe tbody tr th:only-of-type {\n",
              "        vertical-align: middle;\n",
              "    }\n",
              "\n",
              "    .dataframe tbody tr th {\n",
              "        vertical-align: top;\n",
              "    }\n",
              "\n",
              "    .dataframe thead th {\n",
              "        text-align: right;\n",
              "    }\n",
              "</style>\n",
              "<table border=\"1\" class=\"dataframe\">\n",
              "  <thead>\n",
              "    <tr style=\"text-align: right;\">\n",
              "      <th></th>\n",
              "      <th>Unnamed: 0</th>\n",
              "      <th>Unnamed: 0.1</th>\n",
              "      <th>unique_key</th>\n",
              "      <th>created_date</th>\n",
              "      <th>closed_date</th>\n",
              "      <th>agency</th>\n",
              "      <th>agency_name</th>\n",
              "      <th>complaint_type</th>\n",
              "      <th>descriptor</th>\n",
              "      <th>location_type</th>\n",
              "      <th>incident_zip</th>\n",
              "      <th>incident_address</th>\n",
              "      <th>street_name</th>\n",
              "      <th>cross_street_1</th>\n",
              "      <th>cross_street_2</th>\n",
              "      <th>intersection_street_1</th>\n",
              "      <th>intersection_street_2</th>\n",
              "      <th>address_type</th>\n",
              "      <th>city</th>\n",
              "      <th>landmark</th>\n",
              "      <th>facility_type</th>\n",
              "      <th>status</th>\n",
              "      <th>due_date</th>\n",
              "      <th>resolution_description</th>\n",
              "      <th>resolution_action_updated_date</th>\n",
              "      <th>community_board</th>\n",
              "      <th>bbl</th>\n",
              "      <th>borough</th>\n",
              "      <th>x_coordinate_(state_plane)</th>\n",
              "      <th>y_coordinate_(state_plane)</th>\n",
              "      <th>open_data_channel_type</th>\n",
              "      <th>park_facility_name</th>\n",
              "      <th>park_borough</th>\n",
              "      <th>vehicle_type</th>\n",
              "      <th>taxi_company_borough</th>\n",
              "      <th>taxi_pick_up_location</th>\n",
              "      <th>bridge_highway_name</th>\n",
              "      <th>bridge_highway_direction</th>\n",
              "      <th>road_ramp</th>\n",
              "      <th>bridge_highway_segment</th>\n",
              "      <th>latitude</th>\n",
              "      <th>longitude</th>\n",
              "      <th>location</th>\n",
              "      <th>borocd</th>\n",
              "    </tr>\n",
              "  </thead>\n",
              "  <tbody>\n",
              "    <tr>\n",
              "      <th>0</th>\n",
              "      <td>0</td>\n",
              "      <td>0</td>\n",
              "      <td>39888071</td>\n",
              "      <td>08/01/2018 12:00:10 AM</td>\n",
              "      <td>08/01/2018 01:52:46 AM</td>\n",
              "      <td>DHS</td>\n",
              "      <td>Operations Unit - Department of Homeless Services</td>\n",
              "      <td>Homeless Person Assistance</td>\n",
              "      <td>NaN</td>\n",
              "      <td>Other</td>\n",
              "      <td>10029</td>\n",
              "      <td>200 EAST  109 STREET</td>\n",
              "      <td>EAST  109 STREET</td>\n",
              "      <td>3 AVENUE</td>\n",
              "      <td>2 AVENUE</td>\n",
              "      <td>NaN</td>\n",
              "      <td>NaN</td>\n",
              "      <td>ADDRESS</td>\n",
              "      <td>NEW YORK</td>\n",
              "      <td>NaN</td>\n",
              "      <td>NaN</td>\n",
              "      <td>Closed</td>\n",
              "      <td>08/01/2018 01:00:10 AM</td>\n",
              "      <td>The mobile outreach response team offered serv...</td>\n",
              "      <td>08/01/2018 01:52:46 AM</td>\n",
              "      <td>11 MANHATTAN</td>\n",
              "      <td>1.016560e+09</td>\n",
              "      <td>MANHATTAN</td>\n",
              "      <td>1000049.0</td>\n",
              "      <td>228317.0</td>\n",
              "      <td>MOBILE</td>\n",
              "      <td>Unspecified</td>\n",
              "      <td>MANHATTAN</td>\n",
              "      <td>NaN</td>\n",
              "      <td>NaN</td>\n",
              "      <td>NaN</td>\n",
              "      <td>NaN</td>\n",
              "      <td>NaN</td>\n",
              "      <td>NaN</td>\n",
              "      <td>NaN</td>\n",
              "      <td>40.793339</td>\n",
              "      <td>-73.942942</td>\n",
              "      <td>(40.79333937834769, -73.9429417746998)</td>\n",
              "      <td>111.0</td>\n",
              "    </tr>\n",
              "    <tr>\n",
              "      <th>46</th>\n",
              "      <td>46</td>\n",
              "      <td>46</td>\n",
              "      <td>39887175</td>\n",
              "      <td>08/01/2018 12:15:12 AM</td>\n",
              "      <td>08/01/2018 01:29:09 AM</td>\n",
              "      <td>DHS</td>\n",
              "      <td>Operations Unit - Department of Homeless Services</td>\n",
              "      <td>Homeless Person Assistance</td>\n",
              "      <td>NaN</td>\n",
              "      <td>Street/Sidewalk</td>\n",
              "      <td>10016</td>\n",
              "      <td>478 THIRD AVENUE</td>\n",
              "      <td>THIRD AVENUE</td>\n",
              "      <td>EAST 32 STREET</td>\n",
              "      <td>EAST 33 STREET</td>\n",
              "      <td>NaN</td>\n",
              "      <td>NaN</td>\n",
              "      <td>ADDRESS</td>\n",
              "      <td>NEW YORK</td>\n",
              "      <td>NaN</td>\n",
              "      <td>NaN</td>\n",
              "      <td>Closed</td>\n",
              "      <td>08/01/2018 01:15:12 AM</td>\n",
              "      <td>The mobile outreach response team offered serv...</td>\n",
              "      <td>08/01/2018 01:29:09 AM</td>\n",
              "      <td>06 MANHATTAN</td>\n",
              "      <td>1.008880e+09</td>\n",
              "      <td>MANHATTAN</td>\n",
              "      <td>990113.0</td>\n",
              "      <td>210611.0</td>\n",
              "      <td>MOBILE</td>\n",
              "      <td>Unspecified</td>\n",
              "      <td>MANHATTAN</td>\n",
              "      <td>NaN</td>\n",
              "      <td>NaN</td>\n",
              "      <td>NaN</td>\n",
              "      <td>NaN</td>\n",
              "      <td>NaN</td>\n",
              "      <td>NaN</td>\n",
              "      <td>NaN</td>\n",
              "      <td>40.744753</td>\n",
              "      <td>-73.978841</td>\n",
              "      <td>(40.74475319239264, -73.97884116795397)</td>\n",
              "      <td>106.0</td>\n",
              "    </tr>\n",
              "    <tr>\n",
              "      <th>47</th>\n",
              "      <td>47</td>\n",
              "      <td>47</td>\n",
              "      <td>39883411</td>\n",
              "      <td>08/01/2018 12:15:39 AM</td>\n",
              "      <td>08/01/2018 01:33:51 AM</td>\n",
              "      <td>DHS</td>\n",
              "      <td>Operations Unit - Department of Homeless Services</td>\n",
              "      <td>Homeless Person Assistance</td>\n",
              "      <td>NaN</td>\n",
              "      <td>Residential Building/House</td>\n",
              "      <td>10035</td>\n",
              "      <td>445 EAST  120 STREET</td>\n",
              "      <td>EAST  120 STREET</td>\n",
              "      <td>1 AVENUE</td>\n",
              "      <td>PLEASANT AVENUE</td>\n",
              "      <td>NaN</td>\n",
              "      <td>NaN</td>\n",
              "      <td>ADDRESS</td>\n",
              "      <td>NEW YORK</td>\n",
              "      <td>NaN</td>\n",
              "      <td>NaN</td>\n",
              "      <td>Closed</td>\n",
              "      <td>08/01/2018 01:15:39 AM</td>\n",
              "      <td>The mobile outreach response team went to the ...</td>\n",
              "      <td>08/01/2018 01:33:51 AM</td>\n",
              "      <td>11 MANHATTAN</td>\n",
              "      <td>1.018080e+09</td>\n",
              "      <td>MANHATTAN</td>\n",
              "      <td>1003119.0</td>\n",
              "      <td>229980.0</td>\n",
              "      <td>MOBILE</td>\n",
              "      <td>Unspecified</td>\n",
              "      <td>MANHATTAN</td>\n",
              "      <td>NaN</td>\n",
              "      <td>NaN</td>\n",
              "      <td>NaN</td>\n",
              "      <td>NaN</td>\n",
              "      <td>NaN</td>\n",
              "      <td>NaN</td>\n",
              "      <td>NaN</td>\n",
              "      <td>40.797898</td>\n",
              "      <td>-73.931850</td>\n",
              "      <td>(40.797897839118114, -73.93184977463629)</td>\n",
              "      <td>111.0</td>\n",
              "    </tr>\n",
              "    <tr>\n",
              "      <th>145</th>\n",
              "      <td>150</td>\n",
              "      <td>150</td>\n",
              "      <td>39881402</td>\n",
              "      <td>08/01/2018 12:59:43 AM</td>\n",
              "      <td>08/01/2018 02:10:40 AM</td>\n",
              "      <td>DHS</td>\n",
              "      <td>Operations Unit - Department of Homeless Services</td>\n",
              "      <td>Homeless Person Assistance</td>\n",
              "      <td>NaN</td>\n",
              "      <td>Street/Sidewalk</td>\n",
              "      <td>10027</td>\n",
              "      <td>624 WEST  125 STREET</td>\n",
              "      <td>WEST  125 STREET</td>\n",
              "      <td>BROADWAY</td>\n",
              "      <td>ST CLAIR PLACE</td>\n",
              "      <td>NaN</td>\n",
              "      <td>NaN</td>\n",
              "      <td>ADDRESS</td>\n",
              "      <td>NEW YORK</td>\n",
              "      <td>NaN</td>\n",
              "      <td>NaN</td>\n",
              "      <td>Closed</td>\n",
              "      <td>08/01/2018 01:59:43 AM</td>\n",
              "      <td>The mobile outreach response team went to the ...</td>\n",
              "      <td>08/01/2018 02:10:40 AM</td>\n",
              "      <td>09 MANHATTAN</td>\n",
              "      <td>1.019950e+09</td>\n",
              "      <td>MANHATTAN</td>\n",
              "      <td>995623.0</td>\n",
              "      <td>236699.0</td>\n",
              "      <td>MOBILE</td>\n",
              "      <td>Unspecified</td>\n",
              "      <td>MANHATTAN</td>\n",
              "      <td>NaN</td>\n",
              "      <td>NaN</td>\n",
              "      <td>NaN</td>\n",
              "      <td>NaN</td>\n",
              "      <td>NaN</td>\n",
              "      <td>NaN</td>\n",
              "      <td>NaN</td>\n",
              "      <td>40.816352</td>\n",
              "      <td>-73.958912</td>\n",
              "      <td>(40.81635246371125, -73.95891211015879)</td>\n",
              "      <td>109.0</td>\n",
              "    </tr>\n",
              "    <tr>\n",
              "      <th>371</th>\n",
              "      <td>394</td>\n",
              "      <td>394</td>\n",
              "      <td>39888951</td>\n",
              "      <td>08/01/2018 04:10:47 AM</td>\n",
              "      <td>08/01/2018 05:18:59 AM</td>\n",
              "      <td>DHS</td>\n",
              "      <td>Operations Unit - Department of Homeless Services</td>\n",
              "      <td>Homeless Person Assistance</td>\n",
              "      <td>NaN</td>\n",
              "      <td>Street/Sidewalk</td>\n",
              "      <td>10003</td>\n",
              "      <td>115 EAST   14 STREET</td>\n",
              "      <td>EAST   14 STREET</td>\n",
              "      <td>4 AVENUE</td>\n",
              "      <td>IRVING PLACE</td>\n",
              "      <td>NaN</td>\n",
              "      <td>NaN</td>\n",
              "      <td>ADDRESS</td>\n",
              "      <td>NEW YORK</td>\n",
              "      <td>NaN</td>\n",
              "      <td>NaN</td>\n",
              "      <td>Closed</td>\n",
              "      <td>08/01/2018 05:10:47 AM</td>\n",
              "      <td>The individual was found and outreach assistan...</td>\n",
              "      <td>08/01/2018 05:18:59 AM</td>\n",
              "      <td>05 MANHATTAN</td>\n",
              "      <td>1.008708e+09</td>\n",
              "      <td>MANHATTAN</td>\n",
              "      <td>987266.0</td>\n",
              "      <td>206735.0</td>\n",
              "      <td>PHONE</td>\n",
              "      <td>Unspecified</td>\n",
              "      <td>MANHATTAN</td>\n",
              "      <td>NaN</td>\n",
              "      <td>NaN</td>\n",
              "      <td>NaN</td>\n",
              "      <td>NaN</td>\n",
              "      <td>NaN</td>\n",
              "      <td>NaN</td>\n",
              "      <td>NaN</td>\n",
              "      <td>40.734116</td>\n",
              "      <td>-73.989117</td>\n",
              "      <td>(40.73411596377878, -73.98911737171056)</td>\n",
              "      <td>105.0</td>\n",
              "    </tr>\n",
              "  </tbody>\n",
              "</table>\n",
              "</div>"
            ],
            "text/plain": [
              "     Unnamed: 0  Unnamed: 0.1  unique_key            created_date  \\\n",
              "0             0             0    39888071  08/01/2018 12:00:10 AM   \n",
              "46           46            46    39887175  08/01/2018 12:15:12 AM   \n",
              "47           47            47    39883411  08/01/2018 12:15:39 AM   \n",
              "145         150           150    39881402  08/01/2018 12:59:43 AM   \n",
              "371         394           394    39888951  08/01/2018 04:10:47 AM   \n",
              "\n",
              "                closed_date agency  \\\n",
              "0    08/01/2018 01:52:46 AM    DHS   \n",
              "46   08/01/2018 01:29:09 AM    DHS   \n",
              "47   08/01/2018 01:33:51 AM    DHS   \n",
              "145  08/01/2018 02:10:40 AM    DHS   \n",
              "371  08/01/2018 05:18:59 AM    DHS   \n",
              "\n",
              "                                           agency_name  \\\n",
              "0    Operations Unit - Department of Homeless Services   \n",
              "46   Operations Unit - Department of Homeless Services   \n",
              "47   Operations Unit - Department of Homeless Services   \n",
              "145  Operations Unit - Department of Homeless Services   \n",
              "371  Operations Unit - Department of Homeless Services   \n",
              "\n",
              "                 complaint_type descriptor               location_type  \\\n",
              "0    Homeless Person Assistance        NaN                       Other   \n",
              "46   Homeless Person Assistance        NaN             Street/Sidewalk   \n",
              "47   Homeless Person Assistance        NaN  Residential Building/House   \n",
              "145  Homeless Person Assistance        NaN             Street/Sidewalk   \n",
              "371  Homeless Person Assistance        NaN             Street/Sidewalk   \n",
              "\n",
              "    incident_zip      incident_address       street_name  cross_street_1  \\\n",
              "0          10029  200 EAST  109 STREET  EAST  109 STREET        3 AVENUE   \n",
              "46         10016      478 THIRD AVENUE      THIRD AVENUE  EAST 32 STREET   \n",
              "47         10035  445 EAST  120 STREET  EAST  120 STREET        1 AVENUE   \n",
              "145        10027  624 WEST  125 STREET  WEST  125 STREET        BROADWAY   \n",
              "371        10003  115 EAST   14 STREET  EAST   14 STREET        4 AVENUE   \n",
              "\n",
              "      cross_street_2 intersection_street_1 intersection_street_2 address_type  \\\n",
              "0           2 AVENUE                   NaN                   NaN      ADDRESS   \n",
              "46    EAST 33 STREET                   NaN                   NaN      ADDRESS   \n",
              "47   PLEASANT AVENUE                   NaN                   NaN      ADDRESS   \n",
              "145   ST CLAIR PLACE                   NaN                   NaN      ADDRESS   \n",
              "371     IRVING PLACE                   NaN                   NaN      ADDRESS   \n",
              "\n",
              "         city landmark facility_type  status                due_date  \\\n",
              "0    NEW YORK      NaN           NaN  Closed  08/01/2018 01:00:10 AM   \n",
              "46   NEW YORK      NaN           NaN  Closed  08/01/2018 01:15:12 AM   \n",
              "47   NEW YORK      NaN           NaN  Closed  08/01/2018 01:15:39 AM   \n",
              "145  NEW YORK      NaN           NaN  Closed  08/01/2018 01:59:43 AM   \n",
              "371  NEW YORK      NaN           NaN  Closed  08/01/2018 05:10:47 AM   \n",
              "\n",
              "                                resolution_description  \\\n",
              "0    The mobile outreach response team offered serv...   \n",
              "46   The mobile outreach response team offered serv...   \n",
              "47   The mobile outreach response team went to the ...   \n",
              "145  The mobile outreach response team went to the ...   \n",
              "371  The individual was found and outreach assistan...   \n",
              "\n",
              "    resolution_action_updated_date community_board           bbl    borough  \\\n",
              "0           08/01/2018 01:52:46 AM    11 MANHATTAN  1.016560e+09  MANHATTAN   \n",
              "46          08/01/2018 01:29:09 AM    06 MANHATTAN  1.008880e+09  MANHATTAN   \n",
              "47          08/01/2018 01:33:51 AM    11 MANHATTAN  1.018080e+09  MANHATTAN   \n",
              "145         08/01/2018 02:10:40 AM    09 MANHATTAN  1.019950e+09  MANHATTAN   \n",
              "371         08/01/2018 05:18:59 AM    05 MANHATTAN  1.008708e+09  MANHATTAN   \n",
              "\n",
              "     x_coordinate_(state_plane)  y_coordinate_(state_plane)  \\\n",
              "0                     1000049.0                    228317.0   \n",
              "46                     990113.0                    210611.0   \n",
              "47                    1003119.0                    229980.0   \n",
              "145                    995623.0                    236699.0   \n",
              "371                    987266.0                    206735.0   \n",
              "\n",
              "    open_data_channel_type park_facility_name park_borough vehicle_type  \\\n",
              "0                   MOBILE        Unspecified    MANHATTAN          NaN   \n",
              "46                  MOBILE        Unspecified    MANHATTAN          NaN   \n",
              "47                  MOBILE        Unspecified    MANHATTAN          NaN   \n",
              "145                 MOBILE        Unspecified    MANHATTAN          NaN   \n",
              "371                  PHONE        Unspecified    MANHATTAN          NaN   \n",
              "\n",
              "    taxi_company_borough taxi_pick_up_location bridge_highway_name  \\\n",
              "0                    NaN                   NaN                 NaN   \n",
              "46                   NaN                   NaN                 NaN   \n",
              "47                   NaN                   NaN                 NaN   \n",
              "145                  NaN                   NaN                 NaN   \n",
              "371                  NaN                   NaN                 NaN   \n",
              "\n",
              "    bridge_highway_direction road_ramp bridge_highway_segment   latitude  \\\n",
              "0                        NaN       NaN                    NaN  40.793339   \n",
              "46                       NaN       NaN                    NaN  40.744753   \n",
              "47                       NaN       NaN                    NaN  40.797898   \n",
              "145                      NaN       NaN                    NaN  40.816352   \n",
              "371                      NaN       NaN                    NaN  40.734116   \n",
              "\n",
              "     longitude                                  location  borocd  \n",
              "0   -73.942942    (40.79333937834769, -73.9429417746998)   111.0  \n",
              "46  -73.978841   (40.74475319239264, -73.97884116795397)   106.0  \n",
              "47  -73.931850  (40.797897839118114, -73.93184977463629)   111.0  \n",
              "145 -73.958912   (40.81635246371125, -73.95891211015879)   109.0  \n",
              "371 -73.989117   (40.73411596377878, -73.98911737171056)   105.0  "
            ]
          },
          "metadata": {
            "tags": []
          },
          "execution_count": 76
        }
      ]
    },
    {
      "cell_type": "markdown",
      "metadata": {
        "id": "qf_qzmgwxTfW",
        "colab_type": "text"
      },
      "source": [
        "#Step 5\n",
        "Group the 311 subset by 'borocd' to get the count of 'Homeless Person Assistance' requests per community district"
      ]
    },
    {
      "cell_type": "code",
      "metadata": {
        "id": "9OVqf9kYxvk-",
        "colab_type": "code",
        "outputId": "7e7e324e-5ec3-45ed-8796-d9891e82aec9",
        "colab": {
          "base_uri": "https://localhost:8080/",
          "height": 204
        }
      },
      "source": [
        "HPA_count = HPA.groupby('borocd').size().reset_index(name='count_of_HPA_requests')\n",
        "HPA_count.head()"
      ],
      "execution_count": 0,
      "outputs": [
        {
          "output_type": "execute_result",
          "data": {
            "text/html": [
              "<div>\n",
              "<style scoped>\n",
              "    .dataframe tbody tr th:only-of-type {\n",
              "        vertical-align: middle;\n",
              "    }\n",
              "\n",
              "    .dataframe tbody tr th {\n",
              "        vertical-align: top;\n",
              "    }\n",
              "\n",
              "    .dataframe thead th {\n",
              "        text-align: right;\n",
              "    }\n",
              "</style>\n",
              "<table border=\"1\" class=\"dataframe\">\n",
              "  <thead>\n",
              "    <tr style=\"text-align: right;\">\n",
              "      <th></th>\n",
              "      <th>borocd</th>\n",
              "      <th>count_of_HPA_requests</th>\n",
              "    </tr>\n",
              "  </thead>\n",
              "  <tbody>\n",
              "    <tr>\n",
              "      <th>0</th>\n",
              "      <td>101.0</td>\n",
              "      <td>758</td>\n",
              "    </tr>\n",
              "    <tr>\n",
              "      <th>1</th>\n",
              "      <td>102.0</td>\n",
              "      <td>965</td>\n",
              "    </tr>\n",
              "    <tr>\n",
              "      <th>2</th>\n",
              "      <td>103.0</td>\n",
              "      <td>520</td>\n",
              "    </tr>\n",
              "    <tr>\n",
              "      <th>3</th>\n",
              "      <td>104.0</td>\n",
              "      <td>1055</td>\n",
              "    </tr>\n",
              "    <tr>\n",
              "      <th>4</th>\n",
              "      <td>105.0</td>\n",
              "      <td>3020</td>\n",
              "    </tr>\n",
              "  </tbody>\n",
              "</table>\n",
              "</div>"
            ],
            "text/plain": [
              "   borocd  count_of_HPA_requests\n",
              "0   101.0                    758\n",
              "1   102.0                    965\n",
              "2   103.0                    520\n",
              "3   104.0                   1055\n",
              "4   105.0                   3020"
            ]
          },
          "metadata": {
            "tags": []
          },
          "execution_count": 77
        }
      ]
    },
    {
      "cell_type": "markdown",
      "metadata": {
        "id": "xwJ73L25xVUX",
        "colab_type": "text"
      },
      "source": [
        "#Step 6\n",
        "Merge the homeless 311 request count table (from Step 5) with the shelter count table (from Step 3).\n",
        "\n",
        "\n",
        "*   Tip: Not all community districts have homeless facilities in them. Use a left join with the 311 complaints as the left table and shelter counts as the right table. After doing this, you should fill in the new NaNs with zeros using the .fillna(0) method on your dataframe."
      ]
    },
    {
      "cell_type": "code",
      "metadata": {
        "id": "32w96xZYLRa3",
        "colab_type": "code",
        "outputId": "2af622c3-dff8-4dff-9a31-355ee9efda54",
        "colab": {
          "base_uri": "https://localhost:8080/",
          "height": 221
        }
      },
      "source": [
        "merged_data = pd.merge(left=HPA_count.fillna(0), right=shelter.fillna(0), how='left', left_on='borocd', right_on='Community District').fillna(0)\n",
        "merged_data.head()"
      ],
      "execution_count": 0,
      "outputs": [
        {
          "output_type": "execute_result",
          "data": {
            "text/html": [
              "<div>\n",
              "<style scoped>\n",
              "    .dataframe tbody tr th:only-of-type {\n",
              "        vertical-align: middle;\n",
              "    }\n",
              "\n",
              "    .dataframe tbody tr th {\n",
              "        vertical-align: top;\n",
              "    }\n",
              "\n",
              "    .dataframe thead th {\n",
              "        text-align: right;\n",
              "    }\n",
              "</style>\n",
              "<table border=\"1\" class=\"dataframe\">\n",
              "  <thead>\n",
              "    <tr style=\"text-align: right;\">\n",
              "      <th></th>\n",
              "      <th>borocd</th>\n",
              "      <th>count_of_HPA_requests</th>\n",
              "      <th>Report Date</th>\n",
              "      <th>Borough</th>\n",
              "      <th>Community District</th>\n",
              "      <th>Adult Family Comm Hotel</th>\n",
              "      <th>Adult Family Shelter</th>\n",
              "      <th>Adult Shelter</th>\n",
              "      <th>Adult Shelter Comm Hotel</th>\n",
              "      <th>FWC Cluster</th>\n",
              "      <th>FWC Comm Hotel</th>\n",
              "      <th>FWC Shelter</th>\n",
              "      <th>sum</th>\n",
              "    </tr>\n",
              "  </thead>\n",
              "  <tbody>\n",
              "    <tr>\n",
              "      <th>0</th>\n",
              "      <td>101.0</td>\n",
              "      <td>758</td>\n",
              "      <td>09/30/2019</td>\n",
              "      <td>Manhattan</td>\n",
              "      <td>101.0</td>\n",
              "      <td>0.0</td>\n",
              "      <td>0.0</td>\n",
              "      <td>0.0</td>\n",
              "      <td>0.0</td>\n",
              "      <td>0.0</td>\n",
              "      <td>1.0</td>\n",
              "      <td>0.0</td>\n",
              "      <td>1.0</td>\n",
              "    </tr>\n",
              "    <tr>\n",
              "      <th>1</th>\n",
              "      <td>102.0</td>\n",
              "      <td>965</td>\n",
              "      <td>0</td>\n",
              "      <td>0</td>\n",
              "      <td>0.0</td>\n",
              "      <td>0.0</td>\n",
              "      <td>0.0</td>\n",
              "      <td>0.0</td>\n",
              "      <td>0.0</td>\n",
              "      <td>0.0</td>\n",
              "      <td>0.0</td>\n",
              "      <td>0.0</td>\n",
              "      <td>0.0</td>\n",
              "    </tr>\n",
              "    <tr>\n",
              "      <th>2</th>\n",
              "      <td>103.0</td>\n",
              "      <td>520</td>\n",
              "      <td>09/30/2019</td>\n",
              "      <td>Manhattan</td>\n",
              "      <td>103.0</td>\n",
              "      <td>0.0</td>\n",
              "      <td>0.0</td>\n",
              "      <td>7.0</td>\n",
              "      <td>2.0</td>\n",
              "      <td>3.0</td>\n",
              "      <td>2.0</td>\n",
              "      <td>3.0</td>\n",
              "      <td>17.0</td>\n",
              "    </tr>\n",
              "    <tr>\n",
              "      <th>3</th>\n",
              "      <td>104.0</td>\n",
              "      <td>1055</td>\n",
              "      <td>09/30/2019</td>\n",
              "      <td>Manhattan</td>\n",
              "      <td>104.0</td>\n",
              "      <td>0.0</td>\n",
              "      <td>1.0</td>\n",
              "      <td>3.0</td>\n",
              "      <td>0.0</td>\n",
              "      <td>0.0</td>\n",
              "      <td>4.0</td>\n",
              "      <td>0.0</td>\n",
              "      <td>8.0</td>\n",
              "    </tr>\n",
              "    <tr>\n",
              "      <th>4</th>\n",
              "      <td>105.0</td>\n",
              "      <td>3020</td>\n",
              "      <td>09/30/2019</td>\n",
              "      <td>Manhattan</td>\n",
              "      <td>105.0</td>\n",
              "      <td>0.0</td>\n",
              "      <td>1.0</td>\n",
              "      <td>0.0</td>\n",
              "      <td>0.0</td>\n",
              "      <td>0.0</td>\n",
              "      <td>8.0</td>\n",
              "      <td>1.0</td>\n",
              "      <td>10.0</td>\n",
              "    </tr>\n",
              "  </tbody>\n",
              "</table>\n",
              "</div>"
            ],
            "text/plain": [
              "   borocd  count_of_HPA_requests Report Date    Borough  Community District  \\\n",
              "0   101.0                    758  09/30/2019  Manhattan               101.0   \n",
              "1   102.0                    965           0          0                 0.0   \n",
              "2   103.0                    520  09/30/2019  Manhattan               103.0   \n",
              "3   104.0                   1055  09/30/2019  Manhattan               104.0   \n",
              "4   105.0                   3020  09/30/2019  Manhattan               105.0   \n",
              "\n",
              "   Adult Family Comm Hotel  Adult Family Shelter  Adult Shelter  \\\n",
              "0                      0.0                   0.0            0.0   \n",
              "1                      0.0                   0.0            0.0   \n",
              "2                      0.0                   0.0            7.0   \n",
              "3                      0.0                   1.0            3.0   \n",
              "4                      0.0                   1.0            0.0   \n",
              "\n",
              "   Adult Shelter Comm Hotel  FWC Cluster  FWC Comm Hotel  FWC Shelter   sum  \n",
              "0                       0.0          0.0             1.0          0.0   1.0  \n",
              "1                       0.0          0.0             0.0          0.0   0.0  \n",
              "2                       2.0          3.0             2.0          3.0  17.0  \n",
              "3                       0.0          0.0             4.0          0.0   8.0  \n",
              "4                       0.0          0.0             8.0          1.0  10.0  "
            ]
          },
          "metadata": {
            "tags": []
          },
          "execution_count": 82
        }
      ]
    },
    {
      "cell_type": "markdown",
      "metadata": {
        "id": "E6aTvI8pxXKY",
        "colab_type": "text"
      },
      "source": [
        "#Step 7\n",
        "Produce a scatter plot of the data using the matplotlib package. What is your initial impression on whether there is a correlation between number of shelters and count of 311 homeless service requests?"
      ]
    },
    {
      "cell_type": "code",
      "metadata": {
        "id": "gTHaQaL8xw0d",
        "colab_type": "code",
        "outputId": "a23e282f-166e-4437-b3a1-f1c6bcadbc73",
        "colab": {
          "base_uri": "https://localhost:8080/",
          "height": 404
        }
      },
      "source": [
        "plt.figure(figsize=(15, 6))\n",
        "\n",
        "plt.scatter(\n",
        "    merged_data['sum'], # x\n",
        "    merged_data['count_of_HPA_requests'], # y\n",
        "    s=50, # size of marker\n",
        "    c='#3d03fc', # color hex color picker: https://www.google.com/search?q=color+picker\n",
        "    edgecolors='black', # outline color of the marker\n",
        "    alpha=0.5) # transparency. 0 is 100% transparent. 1 is 100% opaque\n",
        "\n",
        "plt.title('number of shelters vs. homeless service requests')\n",
        "plt.xlabel('number of shelters')\n",
        "plt.ylabel('count of 311 homeless service requests')\n",
        "\n",
        "plt.show()"
      ],
      "execution_count": 0,
      "outputs": [
        {
          "output_type": "display_data",
          "data": {
            "image/png": "[encoded data removed]",
            "text/plain": [
              "<Figure size 1080x432 with 1 Axes>"
            ]
          },
          "metadata": {
            "tags": []
          }
        }
      ]
    },
    {
      "cell_type": "markdown",
      "metadata": {
        "id": "_JiJbmgMxY1W",
        "colab_type": "text"
      },
      "source": [
        "#Step 8\n",
        "Use np.corrcoef(x, y) to identify the correlation coefficient between count of total shelter buildings and count of homeless requests per community district."
      ]
    },
    {
      "cell_type": "code",
      "metadata": {
        "id": "tQ73oP6bxxb2",
        "colab_type": "code",
        "outputId": "e89bf136-0683-471c-bd5e-2f8822395ef9",
        "colab": {
          "base_uri": "https://localhost:8080/",
          "height": 51
        }
      },
      "source": [
        " np.corrcoef(merged_data['sum'], merged_data['count_of_HPA_requests'])"
      ],
      "execution_count": 0,
      "outputs": [
        {
          "output_type": "execute_result",
          "data": {
            "text/plain": [
              "array([[ 1.        , -0.02042157],\n",
              "       [-0.02042157,  1.        ]])"
            ]
          },
          "metadata": {
            "tags": []
          },
          "execution_count": 87
        }
      ]
    },
    {
      "cell_type": "markdown",
      "metadata": {
        "id": "tv76nhxoxacX",
        "colab_type": "text"
      },
      "source": [
        "#Step 9\n",
        "Perform a linear regression with count of total shelter buildings as the independent variable and count of homeless requests as the dependent variable"
      ]
    },
    {
      "cell_type": "code",
      "metadata": {
        "id": "7iII_pG1xyJW",
        "colab_type": "code",
        "outputId": "6bdcb119-556b-457a-dc69-1fd9940456aa",
        "colab": {
          "base_uri": "https://localhost:8080/",
          "height": 1000
        }
      },
      "source": [
        "x = np.array(merged_data['sum'])\n",
        "y = np.array(merged_data['count_of_HPA_requests'])\n",
        "\n",
        "x = sm.add_constant(x)\n",
        "\n",
        "print(x)\n",
        "\n",
        "model = sm.OLS(y, x).fit()\n",
        "\n",
        "\n",
        "print(model.summary())"
      ],
      "execution_count": 0,
      "outputs": [
        {
          "output_type": "stream",
          "text": [
            "[[ 1.  1.]\n",
            " [ 1.  0.]\n",
            " [ 1. 17.]\n",
            " [ 1.  8.]\n",
            " [ 1. 10.]\n",
            " [ 1.  3.]\n",
            " [ 1.  7.]\n",
            " [ 1.  1.]\n",
            " [ 1.  6.]\n",
            " [ 1. 23.]\n",
            " [ 1. 25.]\n",
            " [ 1.  3.]\n",
            " [ 1. 15.]\n",
            " [ 1. 15.]\n",
            " [ 1.  8.]\n",
            " [ 1.  8.]\n",
            " [ 1. 23.]\n",
            " [ 1. 23.]\n",
            " [ 1. 32.]\n",
            " [ 1. 32.]\n",
            " [ 1. 21.]\n",
            " [ 1. 21.]\n",
            " [ 1. 26.]\n",
            " [ 1. 26.]\n",
            " [ 1. 13.]\n",
            " [ 1. 13.]\n",
            " [ 1.  1.]\n",
            " [ 1.  1.]\n",
            " [ 1.  8.]\n",
            " [ 1.  8.]\n",
            " [ 1.  3.]\n",
            " [ 1.  3.]\n",
            " [ 1.  0.]\n",
            " [ 1.  0.]\n",
            " [ 1.  4.]\n",
            " [ 1.  4.]\n",
            " [ 1.  7.]\n",
            " [ 1.  5.]\n",
            " [ 1. 22.]\n",
            " [ 1. 10.]\n",
            " [ 1. 18.]\n",
            " [ 1.  4.]\n",
            " [ 1.  9.]\n",
            " [ 1. 11.]\n",
            " [ 1.  2.]\n",
            " [ 1.  0.]\n",
            " [ 1.  0.]\n",
            " [ 1.  2.]\n",
            " [ 1.  1.]\n",
            " [ 1.  1.]\n",
            " [ 1.  1.]\n",
            " [ 1. 24.]\n",
            " [ 1.  4.]\n",
            " [ 1.  3.]\n",
            " [ 1.  5.]\n",
            " [ 1.  5.]\n",
            " [ 1.  5.]\n",
            " [ 1.  3.]\n",
            " [ 1.  0.]\n",
            " [ 1.  0.]\n",
            " [ 1.  3.]\n",
            " [ 1.  1.]\n",
            " [ 1.  1.]\n",
            " [ 1.  7.]\n",
            " [ 1.  0.]\n",
            " [ 1. 22.]\n",
            " [ 1.  9.]\n",
            " [ 1.  3.]\n",
            " [ 1.  1.]\n",
            " [ 1.  0.]\n",
            " [ 1.  0.]]\n",
            "                            OLS Regression Results                            \n",
            "==============================================================================\n",
            "Dep. Variable:                      y   R-squared:                       0.000\n",
            "Model:                            OLS   Adj. R-squared:                 -0.014\n",
            "Method:                 Least Squares   F-statistic:                   0.02879\n",
            "Date:                Thu, 05 Dec 2019   Prob (F-statistic):              0.866\n",
            "Time:                        04:22:16   Log-Likelihood:                -531.17\n",
            "No. Observations:                  71   AIC:                             1066.\n",
            "Df Residuals:                      69   BIC:                             1071.\n",
            "Df Model:                           1                                         \n",
            "Covariance Type:            nonrobust                                         \n",
            "==============================================================================\n",
            "                 coef    std err          t      P>|t|      [0.025      0.975]\n",
            "------------------------------------------------------------------------------\n",
            "const        254.2812     71.436      3.560      0.001     111.770     396.793\n",
            "x1            -0.9883      5.825     -0.170      0.866     -12.608      10.632\n",
            "==============================================================================\n",
            "Omnibus:                      101.982   Durbin-Watson:                   0.915\n",
            "Prob(Omnibus):                  0.000   Jarque-Bera (JB):             1905.255\n",
            "Skew:                           4.506   Prob(JB):                         0.00\n",
            "Kurtosis:                      26.724   Cond. No.                         17.0\n",
            "==============================================================================\n",
            "\n",
            "Warnings:\n",
            "[1] Standard Errors assume that the covariance matrix of the errors is correctly specified.\n"
          ],
          "name": "stdout"
        }
      ]
    },
    {
      "cell_type": "markdown",
      "metadata": {
        "id": "pAzrX5gExcIO",
        "colab_type": "text"
      },
      "source": [
        "#Step 10\n",
        "Produce a scatter plot of the data with the line of best fit from your linear regression using the matplotlib package"
      ]
    },
    {
      "cell_type": "code",
      "metadata": {
        "id": "8gMhsP6UxytV",
        "colab_type": "code",
        "outputId": "ec02556d-1458-4008-d131-54a179cafcc8",
        "colab": {
          "base_uri": "https://localhost:8080/",
          "height": 455
        }
      },
      "source": [
        "\n",
        "p = model.params # intercept and coefficient\n",
        "print('parameters:', p)\n",
        "r2 = model.rsquared\n",
        "print('R2:', r2)\n",
        "label = 'y = ' + str(round(p[1],2)) + 'x + ' + str(round(p[0],2)) + '; R2 = ' + str(round(r2,3))\n",
        "print(label)\n",
        "\n",
        "x_dummy =merged_data['sum']\n",
        "\n",
        "plt.figure(figsize=(15, 6))\n",
        "\n",
        "plt.scatter(\n",
        "    merged_data['sum'], # x\n",
        "    merged_data['count_of_HPA_requests'], # y\n",
        "    s=50, # size of marker\n",
        "    c='#3d03fc', # color hex color picker: https://www.google.com/search?q=color+picker\n",
        "    edgecolors='black', # outline color of the marker\n",
        "    alpha=0.5) # transparency. 0 is 100% transparent. 1 is 100% opaque\n",
        "\n",
        "# line of best fit, with y intercept\n",
        "plt.plot(\n",
        "    x_dummy, \n",
        "    p[0] + p[1] * x_dummy,\n",
        "    c='#00d138', # lighter green\n",
        "    label=label)\n",
        "\n",
        "plt.title('311 Requests vs. Community District Population')\n",
        "plt.xlabel('Population in Community District (Thousands)')\n",
        "plt.ylabel('# of 311 Requests in Community District')\n",
        "plt.legend()\n",
        "\n",
        "plt.show()"
      ],
      "execution_count": 0,
      "outputs": [
        {
          "output_type": "stream",
          "text": [
            "parameters: [254.28120088  -0.98829495]\n",
            "R2: 0.00041704046351909163\n",
            "y = -0.99x + 254.28; R2 = 0.0\n"
          ],
          "name": "stdout"
        },
        {
          "output_type": "display_data",
          "data": {
            "image/png": "[encoded data removed]",
            "text/plain": [
              "<Figure size 1080x432 with 1 Axes>"
            ]
          },
          "metadata": {
            "tags": []
          }
        }
      ]
    },
    {
      "cell_type": "markdown",
      "metadata": {
        "id": "svmfvmL9xeBm",
        "colab_type": "text"
      },
      "source": [
        "#Step 11\n",
        "Write a sentence or two explaining the results of your analysis. What do the numbers and chart tell you about the relationship between concentration of homeless shelters vs. frequency of 311 requests related to homelessness?"
      ]
    },
    {
      "cell_type": "code",
      "metadata": {
        "id": "PMUptRx-SX1c",
        "colab_type": "code",
        "colab": {}
      },
      "source": [
        "#The concentration of homeless shelters and frequency of 311 requests related to homelessness is statistically insignificant. It's safe to say number of shelters and number of requests is uncorrelated."
      ],
      "execution_count": 0,
      "outputs": []
    }
  ]
}